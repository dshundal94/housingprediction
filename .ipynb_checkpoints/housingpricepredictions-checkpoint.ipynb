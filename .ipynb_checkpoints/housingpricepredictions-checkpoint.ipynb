{
 "cells": [
  {
   "cell_type": "markdown",
   "metadata": {},
   "source": [
    "# Housing Price Prediction\n",
    "In real estate, a house is priced based on similar homes that were recently sold within a certain defined area. This method is formally known as the Sales Comparison method and is what real estate agents most commonly use. In an everchanging market, this method at times can be lacking, where there might not be similar homes or there might not be homes that were recently sold in around the same area. Despite these shortcomings, the Sales Comparison method is very powerful as it can show what the people are willing to pay for a house at any given moment. \n",
    "\n",
    "In this program, I'll use various machine learning algorithms to predict housing prices in the Lodi area as well as Stockton Far NW area(20708), and see which one gives the best results. My background as a real estate agent allows me to collect data from a metrolist and export it to an excel file. As I import more data, the amount of area I cover in terms of area will also increase. Specifically, I am dealing with zip codes 95240, 95242, 95209, and 95219. \n",
    "\n",
    "I'm going to use pandas to read the file. "
   ]
  },
  {
   "cell_type": "code",
   "execution_count": 1,
   "metadata": {
    "collapsed": false
   },
   "outputs": [],
   "source": [
    "import pandas as pd\n",
    "import csv as csv\n",
    "import numpy as np"
   ]
  },
  {
   "cell_type": "markdown",
   "metadata": {},
   "source": [
    "The data that is going to be trained is labeled data and is later split into training and test data. The prices that I want to predict are labeled as predictions. "
   ]
  },
  {
   "cell_type": "code",
   "execution_count": 2,
   "metadata": {
    "collapsed": false
   },
   "outputs": [],
   "source": [
    "data = pd.read_csv('C:/Users/Damanjit/Documents/HousingPrediction/sold3.csv')\n",
    "predictions = pd.read_csv('C:/Users/Damanjit/Documents/HousingPrediction/testing3.csv')"
   ]
  },
  {
   "cell_type": "markdown",
   "metadata": {},
   "source": [
    "Then to showcase the data I will use matplotlib.  "
   ]
  },
  {
   "cell_type": "code",
   "execution_count": 3,
   "metadata": {
    "collapsed": false
   },
   "outputs": [
    {
     "data": {
      "text/html": [
       "<div>\n",
       "<table border=\"1\" class=\"dataframe\">\n",
       "  <thead>\n",
       "    <tr style=\"text-align: right;\">\n",
       "      <th></th>\n",
       "      <th>Address</th>\n",
       "      <th>Address - Zip Code</th>\n",
       "      <th># of Garage Spaces</th>\n",
       "      <th>Bathrooms - Full</th>\n",
       "      <th>Bathrooms - Half</th>\n",
       "      <th>Bedrooms</th>\n",
       "      <th>HOA Dues</th>\n",
       "      <th>Listing Price</th>\n",
       "      <th>Price_Per_SQFT_LISTING</th>\n",
       "      <th>Lot Size - Sq Ft</th>\n",
       "      <th>Listing Date</th>\n",
       "      <th>Pending Date</th>\n",
       "      <th>Pool</th>\n",
       "      <th>Selling Date</th>\n",
       "      <th>Selling Price</th>\n",
       "      <th>Selling_Price_Per_Sqft</th>\n",
       "      <th>Square Footage</th>\n",
       "      <th>Year Built</th>\n",
       "    </tr>\n",
       "  </thead>\n",
       "  <tbody>\n",
       "    <tr>\n",
       "      <th>0</th>\n",
       "      <td>2432 Brittay Ct, Lodi, CA 95242-9144</td>\n",
       "      <td>95242</td>\n",
       "      <td>3</td>\n",
       "      <td>4</td>\n",
       "      <td>1</td>\n",
       "      <td>5</td>\n",
       "      <td>400</td>\n",
       "      <td>789999</td>\n",
       "      <td>195.79</td>\n",
       "      <td>17071</td>\n",
       "      <td>5/9/2016</td>\n",
       "      <td>5/17/2016</td>\n",
       "      <td>YESY</td>\n",
       "      <td>6/29/2016</td>\n",
       "      <td>790000</td>\n",
       "      <td>195.786865</td>\n",
       "      <td>4035</td>\n",
       "      <td>1999.0</td>\n",
       "    </tr>\n",
       "    <tr>\n",
       "      <th>1</th>\n",
       "      <td>2431 W Tokay St, Lodi, CA 95242-3648</td>\n",
       "      <td>95242</td>\n",
       "      <td>2</td>\n",
       "      <td>2</td>\n",
       "      <td>0</td>\n",
       "      <td>3</td>\n",
       "      <td>0</td>\n",
       "      <td>259900</td>\n",
       "      <td>188.20</td>\n",
       "      <td>5898</td>\n",
       "      <td>9/24/2016</td>\n",
       "      <td>9/30/2016</td>\n",
       "      <td>NONO</td>\n",
       "      <td>10/27/2016</td>\n",
       "      <td>273000</td>\n",
       "      <td>197.682839</td>\n",
       "      <td>1381</td>\n",
       "      <td>1965.0</td>\n",
       "    </tr>\n",
       "    <tr>\n",
       "      <th>2</th>\n",
       "      <td>2405 W Elm St, Lodi, CA 95242-2828</td>\n",
       "      <td>95242</td>\n",
       "      <td>2</td>\n",
       "      <td>2</td>\n",
       "      <td>0</td>\n",
       "      <td>3</td>\n",
       "      <td>170</td>\n",
       "      <td>220000</td>\n",
       "      <td>198.38</td>\n",
       "      <td>2309</td>\n",
       "      <td>7/21/2016</td>\n",
       "      <td>7/25/2016</td>\n",
       "      <td>YESY</td>\n",
       "      <td>8/16/2016</td>\n",
       "      <td>225500</td>\n",
       "      <td>203.336339</td>\n",
       "      <td>1109</td>\n",
       "      <td>1975.0</td>\n",
       "    </tr>\n",
       "    <tr>\n",
       "      <th>3</th>\n",
       "      <td>324 Leland Ct Lodi, CA 95242-3328</td>\n",
       "      <td>95242</td>\n",
       "      <td>3</td>\n",
       "      <td>3</td>\n",
       "      <td>0</td>\n",
       "      <td>5</td>\n",
       "      <td>0</td>\n",
       "      <td>499000</td>\n",
       "      <td>168.07</td>\n",
       "      <td>11761</td>\n",
       "      <td>6/8/2012</td>\n",
       "      <td>6/14/2012</td>\n",
       "      <td>NONO</td>\n",
       "      <td>7/26/2012</td>\n",
       "      <td>480000</td>\n",
       "      <td>161.670596</td>\n",
       "      <td>2969</td>\n",
       "      <td>1989.0</td>\n",
       "    </tr>\n",
       "    <tr>\n",
       "      <th>4</th>\n",
       "      <td>2428 Vintage Oaks Ct, Lodi, CA 95242-9347</td>\n",
       "      <td>95242</td>\n",
       "      <td>3</td>\n",
       "      <td>2</td>\n",
       "      <td>1</td>\n",
       "      <td>3</td>\n",
       "      <td>0</td>\n",
       "      <td>495000</td>\n",
       "      <td>195.73</td>\n",
       "      <td>11256</td>\n",
       "      <td>6/12/2016</td>\n",
       "      <td>9/8/2016</td>\n",
       "      <td>NONO</td>\n",
       "      <td>10/17/2016</td>\n",
       "      <td>497000</td>\n",
       "      <td>196.520364</td>\n",
       "      <td>2529</td>\n",
       "      <td>2007.0</td>\n",
       "    </tr>\n",
       "  </tbody>\n",
       "</table>\n",
       "</div>"
      ],
      "text/plain": [
       "                                     Address  Address - Zip Code  \\\n",
       "0       2432 Brittay Ct, Lodi, CA 95242-9144               95242   \n",
       "1       2431 W Tokay St, Lodi, CA 95242-3648               95242   \n",
       "2         2405 W Elm St, Lodi, CA 95242-2828               95242   \n",
       "3          324 Leland Ct Lodi, CA 95242-3328               95242   \n",
       "4  2428 Vintage Oaks Ct, Lodi, CA 95242-9347               95242   \n",
       "\n",
       "   # of Garage Spaces  Bathrooms - Full  Bathrooms - Half  Bedrooms  HOA Dues  \\\n",
       "0                   3                 4                 1         5       400   \n",
       "1                   2                 2                 0         3         0   \n",
       "2                   2                 2                 0         3       170   \n",
       "3                   3                 3                 0         5         0   \n",
       "4                   3                 2                 1         3         0   \n",
       "\n",
       "   Listing Price  Price_Per_SQFT_LISTING  Lot Size - Sq Ft Listing Date  \\\n",
       "0         789999                  195.79             17071     5/9/2016   \n",
       "1         259900                  188.20              5898    9/24/2016   \n",
       "2         220000                  198.38              2309    7/21/2016   \n",
       "3         499000                  168.07             11761     6/8/2012   \n",
       "4         495000                  195.73             11256    6/12/2016   \n",
       "\n",
       "  Pending Date  Pool Selling Date  Selling Price  Selling_Price_Per_Sqft  \\\n",
       "0    5/17/2016  YESY    6/29/2016         790000              195.786865   \n",
       "1    9/30/2016  NONO   10/27/2016         273000              197.682839   \n",
       "2    7/25/2016  YESY    8/16/2016         225500              203.336339   \n",
       "3    6/14/2012  NONO    7/26/2012         480000              161.670596   \n",
       "4     9/8/2016  NONO   10/17/2016         497000              196.520364   \n",
       "\n",
       "   Square Footage  Year Built  \n",
       "0            4035      1999.0  \n",
       "1            1381      1965.0  \n",
       "2            1109      1975.0  \n",
       "3            2969      1989.0  \n",
       "4            2529      2007.0  "
      ]
     },
     "execution_count": 3,
     "metadata": {},
     "output_type": "execute_result"
    }
   ],
   "source": [
    "import matplotlib.pyplot as pl\n",
    "%matplotlib inline\n",
    "\n",
    "#preview that data\n",
    "data.head()"
   ]
  },
  {
   "cell_type": "code",
   "execution_count": 4,
   "metadata": {
    "collapsed": false
   },
   "outputs": [
    {
     "data": {
      "text/html": [
       "<div>\n",
       "<table border=\"1\" class=\"dataframe\">\n",
       "  <thead>\n",
       "    <tr style=\"text-align: right;\">\n",
       "      <th></th>\n",
       "      <th>Address</th>\n",
       "      <th>Address - Zip Code</th>\n",
       "      <th># of Garage Spaces</th>\n",
       "      <th>Bathrooms - Full</th>\n",
       "      <th>Bathrooms - Half</th>\n",
       "      <th>Bedrooms</th>\n",
       "      <th>HOA Dues</th>\n",
       "      <th>Listing Price</th>\n",
       "      <th>Price_Per_SQFT_LISTING</th>\n",
       "      <th>Lot Size - Sq Ft</th>\n",
       "      <th>Listing Date</th>\n",
       "      <th>Pending Date</th>\n",
       "      <th>Pool</th>\n",
       "      <th>Selling Date</th>\n",
       "      <th>Selling Price</th>\n",
       "      <th>Selling_Price_Per_Sqft</th>\n",
       "      <th>Square Footage</th>\n",
       "      <th>Year Built</th>\n",
       "    </tr>\n",
       "  </thead>\n",
       "  <tbody>\n",
       "    <tr>\n",
       "      <th>0</th>\n",
       "      <td>309 Leland Ct, Lodi, CA 95242-3328</td>\n",
       "      <td>95242</td>\n",
       "      <td>2</td>\n",
       "      <td>2</td>\n",
       "      <td>1</td>\n",
       "      <td>3</td>\n",
       "      <td>0</td>\n",
       "      <td>549000</td>\n",
       "      <td>210.26</td>\n",
       "      <td>10485</td>\n",
       "      <td>7/24/2016</td>\n",
       "      <td>NaN</td>\n",
       "      <td>NONO</td>\n",
       "      <td>NaN</td>\n",
       "      <td>NaN</td>\n",
       "      <td>NaN</td>\n",
       "      <td>2611</td>\n",
       "      <td>1987.0</td>\n",
       "    </tr>\n",
       "    <tr>\n",
       "      <th>1</th>\n",
       "      <td>520 N Lower Sacramento Rd, Lodi, CA 95242-2115</td>\n",
       "      <td>95242</td>\n",
       "      <td>6</td>\n",
       "      <td>3</td>\n",
       "      <td>0</td>\n",
       "      <td>3</td>\n",
       "      <td>0</td>\n",
       "      <td>739950</td>\n",
       "      <td>191.65</td>\n",
       "      <td>30928</td>\n",
       "      <td>10/4/2016</td>\n",
       "      <td>NaN</td>\n",
       "      <td>NONO</td>\n",
       "      <td>NaN</td>\n",
       "      <td>NaN</td>\n",
       "      <td>NaN</td>\n",
       "      <td>3861</td>\n",
       "      <td>1955.0</td>\n",
       "    </tr>\n",
       "    <tr>\n",
       "      <th>2</th>\n",
       "      <td>2581 Central Park Dr, Lodi, CA 95242-3232</td>\n",
       "      <td>95242</td>\n",
       "      <td>2</td>\n",
       "      <td>2</td>\n",
       "      <td>0</td>\n",
       "      <td>2</td>\n",
       "      <td>265</td>\n",
       "      <td>367000</td>\n",
       "      <td>226.96</td>\n",
       "      <td>4800</td>\n",
       "      <td>10/26/2016</td>\n",
       "      <td>NaN</td>\n",
       "      <td>YESY</td>\n",
       "      <td>NaN</td>\n",
       "      <td>NaN</td>\n",
       "      <td>NaN</td>\n",
       "      <td>1617</td>\n",
       "      <td>1993.0</td>\n",
       "    </tr>\n",
       "    <tr>\n",
       "      <th>3</th>\n",
       "      <td>2407 Corbin Lane, Lodi, CA 95242</td>\n",
       "      <td>95242</td>\n",
       "      <td>2</td>\n",
       "      <td>3</td>\n",
       "      <td>0</td>\n",
       "      <td>4</td>\n",
       "      <td>0</td>\n",
       "      <td>318000</td>\n",
       "      <td>178.65</td>\n",
       "      <td>5998</td>\n",
       "      <td>8/8/2016</td>\n",
       "      <td>NaN</td>\n",
       "      <td>YESY</td>\n",
       "      <td>NaN</td>\n",
       "      <td>NaN</td>\n",
       "      <td>NaN</td>\n",
       "      <td>1780</td>\n",
       "      <td>1966.0</td>\n",
       "    </tr>\n",
       "    <tr>\n",
       "      <th>4</th>\n",
       "      <td>647 El Capitan, Lodi, CA 95242</td>\n",
       "      <td>95242</td>\n",
       "      <td>2</td>\n",
       "      <td>2</td>\n",
       "      <td>1</td>\n",
       "      <td>3</td>\n",
       "      <td>0</td>\n",
       "      <td>319900</td>\n",
       "      <td>182.18</td>\n",
       "      <td>5502</td>\n",
       "      <td>9/6/2016</td>\n",
       "      <td>NaN</td>\n",
       "      <td>NONO</td>\n",
       "      <td>NaN</td>\n",
       "      <td>NaN</td>\n",
       "      <td>NaN</td>\n",
       "      <td>1756</td>\n",
       "      <td>1970.0</td>\n",
       "    </tr>\n",
       "  </tbody>\n",
       "</table>\n",
       "</div>"
      ],
      "text/plain": [
       "                                          Address  Address - Zip Code  \\\n",
       "0              309 Leland Ct, Lodi, CA 95242-3328               95242   \n",
       "1  520 N Lower Sacramento Rd, Lodi, CA 95242-2115               95242   \n",
       "2       2581 Central Park Dr, Lodi, CA 95242-3232               95242   \n",
       "3                2407 Corbin Lane, Lodi, CA 95242               95242   \n",
       "4                  647 El Capitan, Lodi, CA 95242               95242   \n",
       "\n",
       "   # of Garage Spaces  Bathrooms - Full  Bathrooms - Half  Bedrooms  HOA Dues  \\\n",
       "0                   2                 2                 1         3         0   \n",
       "1                   6                 3                 0         3         0   \n",
       "2                   2                 2                 0         2       265   \n",
       "3                   2                 3                 0         4         0   \n",
       "4                   2                 2                 1         3         0   \n",
       "\n",
       "   Listing Price  Price_Per_SQFT_LISTING  Lot Size - Sq Ft Listing Date  \\\n",
       "0         549000                  210.26             10485    7/24/2016   \n",
       "1         739950                  191.65             30928    10/4/2016   \n",
       "2         367000                  226.96              4800   10/26/2016   \n",
       "3         318000                  178.65              5998     8/8/2016   \n",
       "4         319900                  182.18              5502     9/6/2016   \n",
       "\n",
       "   Pending Date  Pool  Selling Date  Selling Price  Selling_Price_Per_Sqft  \\\n",
       "0           NaN  NONO           NaN            NaN                     NaN   \n",
       "1           NaN  NONO           NaN            NaN                     NaN   \n",
       "2           NaN  YESY           NaN            NaN                     NaN   \n",
       "3           NaN  YESY           NaN            NaN                     NaN   \n",
       "4           NaN  NONO           NaN            NaN                     NaN   \n",
       "\n",
       "   Square Footage  Year Built  \n",
       "0            2611      1987.0  \n",
       "1            3861      1955.0  \n",
       "2            1617      1993.0  \n",
       "3            1780      1966.0  \n",
       "4            1756      1970.0  "
      ]
     },
     "execution_count": 4,
     "metadata": {},
     "output_type": "execute_result"
    }
   ],
   "source": [
    "#Similarily with the predictions data\n",
    "predictions.head()"
   ]
  },
  {
   "cell_type": "markdown",
   "metadata": {},
   "source": [
    "The target, or the y variable that we are trying to predict is the selling price, so that's what is shown here below. "
   ]
  },
  {
   "cell_type": "code",
   "execution_count": 5,
   "metadata": {
    "collapsed": false
   },
   "outputs": [
    {
     "data": {
      "text/plain": [
       "0    790000\n",
       "1    273000\n",
       "2    225500\n",
       "3    480000\n",
       "4    497000\n",
       "Name: Selling Price, dtype: int64"
      ]
     },
     "execution_count": 5,
     "metadata": {},
     "output_type": "execute_result"
    }
   ],
   "source": [
    "prices = data['Selling Price']\n",
    "prices.head()"
   ]
  },
  {
   "cell_type": "code",
   "execution_count": 6,
   "metadata": {
    "collapsed": false,
    "scrolled": false
   },
   "outputs": [
    {
     "data": {
      "image/png": "[encoded data removed]",
      "text/plain": [
       "<matplotlib.figure.Figure at 0x96a7550>"
      ]
     },
     "metadata": {},
     "output_type": "display_data"
    },
    {
     "name": "stdout",
     "output_type": "stream",
     "text": [
      "y=0.965773x+(5957.349447)\n",
      "0.983102709351\n"
     ]
    }
   ],
   "source": [
    "#Plot to see relationship between the listed price(the price that was originally priced when house first came on market) \n",
    "# and the final sale price\n",
    "\n",
    "x_axis = data['Listing Price']\n",
    "y_axis = data['Selling Price']\n",
    "pl.figure()\n",
    "pl.title('Training Data: Listing Price vs. Selling Price')\n",
    "m, b = np.polyfit(x_axis, y_axis, 1)\n",
    "pl.plot(x_axis, y_axis, '.')\n",
    "pl.plot(x_axis, m*x_axis + b, '-')\n",
    "pl.xlabel('Listing Price')\n",
    "pl.ylabel('Selling Price')\n",
    "pl.show()\n",
    "#This is the equation of the best fit line\n",
    "print \"y=%.6fx+(%.6f)\"%(m,b)\n",
    "\n",
    "#Calculate the Coefficient of Determination(R^2 value) for this relationship\n",
    "from scipy import stats\n",
    "slope, intercept, r_value, p_value, std_err = stats.linregress(x_axis,y_axis)\n",
    "r_squared = r_value ** 2\n",
    "print r_squared"
   ]
  },
  {
   "cell_type": "markdown",
   "metadata": {},
   "source": [
    "From this plot we can see the relationship between the listing price and final selling price as having high correlation with a R^2 value of 0.983. I also observe that there is an outlier on the top right of the graph and we can look further into this specific point. "
   ]
  },
  {
   "cell_type": "code",
   "execution_count": 7,
   "metadata": {
    "collapsed": false
   },
   "outputs": [
    {
     "data": {
      "text/html": [
       "<div>\n",
       "<table border=\"1\" class=\"dataframe\">\n",
       "  <thead>\n",
       "    <tr style=\"text-align: right;\">\n",
       "      <th></th>\n",
       "      <th>Address</th>\n",
       "      <th>Address - Zip Code</th>\n",
       "      <th># of Garage Spaces</th>\n",
       "      <th>Bathrooms - Full</th>\n",
       "      <th>Bathrooms - Half</th>\n",
       "      <th>Bedrooms</th>\n",
       "      <th>HOA Dues</th>\n",
       "      <th>Listing Price</th>\n",
       "      <th>Price_Per_SQFT_LISTING</th>\n",
       "      <th>Lot Size - Sq Ft</th>\n",
       "      <th>Listing Date</th>\n",
       "      <th>Pending Date</th>\n",
       "      <th>Pool</th>\n",
       "      <th>Selling Date</th>\n",
       "      <th>Selling Price</th>\n",
       "      <th>Selling_Price_Per_Sqft</th>\n",
       "      <th>Square Footage</th>\n",
       "      <th>Year Built</th>\n",
       "    </tr>\n",
       "  </thead>\n",
       "  <tbody>\n",
       "    <tr>\n",
       "      <th>544</th>\n",
       "      <td>2328 Brittany Ln, Lodi, CA 95242</td>\n",
       "      <td>95242</td>\n",
       "      <td>3</td>\n",
       "      <td>3</td>\n",
       "      <td>1</td>\n",
       "      <td>4</td>\n",
       "      <td>0</td>\n",
       "      <td>1175000</td>\n",
       "      <td>297.47</td>\n",
       "      <td>21344</td>\n",
       "      <td>4/13/2016</td>\n",
       "      <td>5/14/2016</td>\n",
       "      <td>YESY</td>\n",
       "      <td>7/29/2016</td>\n",
       "      <td>899000</td>\n",
       "      <td>227.594937</td>\n",
       "      <td>3950</td>\n",
       "      <td>1987.0</td>\n",
       "    </tr>\n",
       "  </tbody>\n",
       "</table>\n",
       "</div>"
      ],
      "text/plain": [
       "                              Address  Address - Zip Code  # of Garage Spaces  \\\n",
       "544  2328 Brittany Ln, Lodi, CA 95242               95242                   3   \n",
       "\n",
       "     Bathrooms - Full  Bathrooms - Half  Bedrooms  HOA Dues  Listing Price  \\\n",
       "544                 3                 1         4         0        1175000   \n",
       "\n",
       "     Price_Per_SQFT_LISTING  Lot Size - Sq Ft Listing Date Pending Date  Pool  \\\n",
       "544                  297.47             21344    4/13/2016    5/14/2016  YESY   \n",
       "\n",
       "    Selling Date  Selling Price  Selling_Price_Per_Sqft  Square Footage  \\\n",
       "544    7/29/2016         899000              227.594937            3950   \n",
       "\n",
       "     Year Built  \n",
       "544      1987.0  "
      ]
     },
     "execution_count": 7,
     "metadata": {},
     "output_type": "execute_result"
    }
   ],
   "source": [
    "data[data['Listing Price'] > 1000000]"
   ]
  },
  {
   "cell_type": "markdown",
   "metadata": {},
   "source": [
    "One thing I notice as a Realtor is the high Price Per Square Feet number, and so I want to do a little bit more exploring of why this property was listed high, but then sold at a much lower weight. "
   ]
  },
  {
   "cell_type": "code",
   "execution_count": 8,
   "metadata": {
    "collapsed": false
   },
   "outputs": [
    {
     "data": {
      "text/html": [
       "<div>\n",
       "<table border=\"1\" class=\"dataframe\">\n",
       "  <thead>\n",
       "    <tr style=\"text-align: right;\">\n",
       "      <th></th>\n",
       "      <th>Address</th>\n",
       "      <th>Address - Zip Code</th>\n",
       "      <th># of Garage Spaces</th>\n",
       "      <th>Bathrooms - Full</th>\n",
       "      <th>Bathrooms - Half</th>\n",
       "      <th>Bedrooms</th>\n",
       "      <th>HOA Dues</th>\n",
       "      <th>Listing Price</th>\n",
       "      <th>Price_Per_SQFT_LISTING</th>\n",
       "      <th>Lot Size - Sq Ft</th>\n",
       "      <th>Listing Date</th>\n",
       "      <th>Pending Date</th>\n",
       "      <th>Pool</th>\n",
       "      <th>Selling Date</th>\n",
       "      <th>Selling Price</th>\n",
       "      <th>Selling_Price_Per_Sqft</th>\n",
       "      <th>Square Footage</th>\n",
       "      <th>Year Built</th>\n",
       "    </tr>\n",
       "  </thead>\n",
       "  <tbody>\n",
       "    <tr>\n",
       "      <th>544</th>\n",
       "      <td>2328 Brittany Ln, Lodi, CA 95242</td>\n",
       "      <td>95242</td>\n",
       "      <td>3</td>\n",
       "      <td>3</td>\n",
       "      <td>1</td>\n",
       "      <td>4</td>\n",
       "      <td>0</td>\n",
       "      <td>1175000</td>\n",
       "      <td>297.47</td>\n",
       "      <td>21344</td>\n",
       "      <td>4/13/2016</td>\n",
       "      <td>5/14/2016</td>\n",
       "      <td>YESY</td>\n",
       "      <td>7/29/2016</td>\n",
       "      <td>899000</td>\n",
       "      <td>227.594937</td>\n",
       "      <td>3950</td>\n",
       "      <td>1987.0</td>\n",
       "    </tr>\n",
       "    <tr>\n",
       "      <th>2242</th>\n",
       "      <td>311 W Oak St Lodi, CA 95240-3401</td>\n",
       "      <td>95240</td>\n",
       "      <td>3</td>\n",
       "      <td>2</td>\n",
       "      <td>1</td>\n",
       "      <td>2</td>\n",
       "      <td>0</td>\n",
       "      <td>447000</td>\n",
       "      <td>298.00</td>\n",
       "      <td>7649</td>\n",
       "      <td>8/21/2013</td>\n",
       "      <td>10/7/2013</td>\n",
       "      <td>NONO</td>\n",
       "      <td>10/30/2013</td>\n",
       "      <td>420000</td>\n",
       "      <td>280.000000</td>\n",
       "      <td>1500</td>\n",
       "      <td>1910.0</td>\n",
       "    </tr>\n",
       "    <tr>\n",
       "      <th>3260</th>\n",
       "      <td>414-416 Central Ave Lodi, CA 95240</td>\n",
       "      <td>95240</td>\n",
       "      <td>0</td>\n",
       "      <td>2</td>\n",
       "      <td>0</td>\n",
       "      <td>3</td>\n",
       "      <td>0</td>\n",
       "      <td>320000</td>\n",
       "      <td>426.67</td>\n",
       "      <td>6970</td>\n",
       "      <td>4/15/2013</td>\n",
       "      <td>4/17/2013</td>\n",
       "      <td>NONO</td>\n",
       "      <td>5/24/2013</td>\n",
       "      <td>300000</td>\n",
       "      <td>400.000000</td>\n",
       "      <td>750</td>\n",
       "      <td>NaN</td>\n",
       "    </tr>\n",
       "    <tr>\n",
       "      <th>3784</th>\n",
       "      <td>409 Maple St, Lodi, CA 95240-4251</td>\n",
       "      <td>95240</td>\n",
       "      <td>2</td>\n",
       "      <td>2</td>\n",
       "      <td>0</td>\n",
       "      <td>4</td>\n",
       "      <td>0</td>\n",
       "      <td>600000</td>\n",
       "      <td>292.40</td>\n",
       "      <td>13774</td>\n",
       "      <td>2/24/2016</td>\n",
       "      <td>6/21/2016</td>\n",
       "      <td>NONO</td>\n",
       "      <td>10/31/2016</td>\n",
       "      <td>480000</td>\n",
       "      <td>233.918129</td>\n",
       "      <td>2052</td>\n",
       "      <td>1966.0</td>\n",
       "    </tr>\n",
       "    <tr>\n",
       "      <th>3939</th>\n",
       "      <td>625 N Pleasant Ave, Lodi, CA 95240-1124</td>\n",
       "      <td>95240</td>\n",
       "      <td>1</td>\n",
       "      <td>1</td>\n",
       "      <td>0</td>\n",
       "      <td>2</td>\n",
       "      <td>0</td>\n",
       "      <td>220000</td>\n",
       "      <td>305.56</td>\n",
       "      <td>5027</td>\n",
       "      <td>8/2/2016</td>\n",
       "      <td>8/4/2016</td>\n",
       "      <td>NONO</td>\n",
       "      <td>9/9/2016</td>\n",
       "      <td>220000</td>\n",
       "      <td>305.555556</td>\n",
       "      <td>720</td>\n",
       "      <td>1955.0</td>\n",
       "    </tr>\n",
       "    <tr>\n",
       "      <th>3951</th>\n",
       "      <td>720 N Church St, Lodi, CA 95240</td>\n",
       "      <td>95240</td>\n",
       "      <td>1</td>\n",
       "      <td>1</td>\n",
       "      <td>0</td>\n",
       "      <td>3</td>\n",
       "      <td>0</td>\n",
       "      <td>200000</td>\n",
       "      <td>294.12</td>\n",
       "      <td>4447</td>\n",
       "      <td>6/20/2016</td>\n",
       "      <td>7/7/2016</td>\n",
       "      <td>NONO</td>\n",
       "      <td>9/20/2016</td>\n",
       "      <td>195000</td>\n",
       "      <td>286.764706</td>\n",
       "      <td>680</td>\n",
       "      <td>2009.0</td>\n",
       "    </tr>\n",
       "    <tr>\n",
       "      <th>3954</th>\n",
       "      <td>305 Forrest Ave, Lodi, CA 95240-1111</td>\n",
       "      <td>95240</td>\n",
       "      <td>1</td>\n",
       "      <td>1</td>\n",
       "      <td>0</td>\n",
       "      <td>2</td>\n",
       "      <td>0</td>\n",
       "      <td>189000</td>\n",
       "      <td>328.13</td>\n",
       "      <td>5998</td>\n",
       "      <td>8/29/2016</td>\n",
       "      <td>9/13/2016</td>\n",
       "      <td>NONO</td>\n",
       "      <td>10/24/2016</td>\n",
       "      <td>189000</td>\n",
       "      <td>328.125000</td>\n",
       "      <td>576</td>\n",
       "      <td>1925.0</td>\n",
       "    </tr>\n",
       "  </tbody>\n",
       "</table>\n",
       "</div>"
      ],
      "text/plain": [
       "                                      Address  Address - Zip Code  \\\n",
       "544          2328 Brittany Ln, Lodi, CA 95242               95242   \n",
       "2242         311 W Oak St Lodi, CA 95240-3401               95240   \n",
       "3260       414-416 Central Ave Lodi, CA 95240               95240   \n",
       "3784        409 Maple St, Lodi, CA 95240-4251               95240   \n",
       "3939  625 N Pleasant Ave, Lodi, CA 95240-1124               95240   \n",
       "3951          720 N Church St, Lodi, CA 95240               95240   \n",
       "3954     305 Forrest Ave, Lodi, CA 95240-1111               95240   \n",
       "\n",
       "      # of Garage Spaces  Bathrooms - Full  Bathrooms - Half  Bedrooms  \\\n",
       "544                    3                 3                 1         4   \n",
       "2242                   3                 2                 1         2   \n",
       "3260                   0                 2                 0         3   \n",
       "3784                   2                 2                 0         4   \n",
       "3939                   1                 1                 0         2   \n",
       "3951                   1                 1                 0         3   \n",
       "3954                   1                 1                 0         2   \n",
       "\n",
       "      HOA Dues  Listing Price  Price_Per_SQFT_LISTING  Lot Size - Sq Ft  \\\n",
       "544          0        1175000                  297.47             21344   \n",
       "2242         0         447000                  298.00              7649   \n",
       "3260         0         320000                  426.67              6970   \n",
       "3784         0         600000                  292.40             13774   \n",
       "3939         0         220000                  305.56              5027   \n",
       "3951         0         200000                  294.12              4447   \n",
       "3954         0         189000                  328.13              5998   \n",
       "\n",
       "     Listing Date Pending Date  Pool Selling Date  Selling Price  \\\n",
       "544     4/13/2016    5/14/2016  YESY    7/29/2016         899000   \n",
       "2242    8/21/2013    10/7/2013  NONO   10/30/2013         420000   \n",
       "3260    4/15/2013    4/17/2013  NONO    5/24/2013         300000   \n",
       "3784    2/24/2016    6/21/2016  NONO   10/31/2016         480000   \n",
       "3939     8/2/2016     8/4/2016  NONO     9/9/2016         220000   \n",
       "3951    6/20/2016     7/7/2016  NONO    9/20/2016         195000   \n",
       "3954    8/29/2016    9/13/2016  NONO   10/24/2016         189000   \n",
       "\n",
       "      Selling_Price_Per_Sqft  Square Footage  Year Built  \n",
       "544               227.594937            3950      1987.0  \n",
       "2242              280.000000            1500      1910.0  \n",
       "3260              400.000000             750         NaN  \n",
       "3784              233.918129            2052      1966.0  \n",
       "3939              305.555556             720      1955.0  \n",
       "3951              286.764706             680      2009.0  \n",
       "3954              328.125000             576      1925.0  "
      ]
     },
     "execution_count": 8,
     "metadata": {},
     "output_type": "execute_result"
    }
   ],
   "source": [
    "data[data['Price_Per_SQFT_LISTING'] > 280]"
   ]
  },
  {
   "cell_type": "markdown",
   "metadata": {},
   "source": [
    "Here we observe that there are several houses that had the Price Per Square Feet number high, but none of the other houses were listed more than $600,000. So I think the sellers that originally listed the house, priced it at an above market price hoping to cash in some major profit, but the market thought this was overpriced, and eventually the seller had to sell the house at a rate that the market thought was fair. "
   ]
  },
  {
   "cell_type": "code",
   "execution_count": 9,
   "metadata": {
    "collapsed": false
   },
   "outputs": [
    {
     "name": "stdout",
     "output_type": "stream",
     "text": [
      "<class 'pandas.core.frame.DataFrame'>\n",
      "RangeIndex: 7369 entries, 0 to 7368\n",
      "Data columns (total 18 columns):\n",
      "Address                   7369 non-null object\n",
      "Address - Zip Code        7369 non-null int64\n",
      "# of Garage Spaces        7369 non-null int64\n",
      "Bathrooms - Full          7369 non-null int64\n",
      "Bathrooms - Half          7369 non-null int64\n",
      "Bedrooms                  7369 non-null int64\n",
      "HOA Dues                  7369 non-null int64\n",
      "Listing Price             7369 non-null int64\n",
      "Price_Per_SQFT_LISTING    7369 non-null float64\n",
      "Lot Size - Sq Ft          7369 non-null int64\n",
      "Listing Date              7369 non-null object\n",
      "Pending Date              7369 non-null object\n",
      "Pool                      7369 non-null object\n",
      "Selling Date              7369 non-null object\n",
      "Selling Price             7369 non-null int64\n",
      "Selling_Price_Per_Sqft    7369 non-null float64\n",
      "Square Footage            7369 non-null int64\n",
      "Year Built                7284 non-null float64\n",
      "dtypes: float64(3), int64(10), object(5)\n",
      "memory usage: 1.0+ MB\n"
     ]
    }
   ],
   "source": [
    "#Let's take a look at the data and see if there are any missing values\n",
    "data.info()"
   ]
  },
  {
   "cell_type": "code",
   "execution_count": 10,
   "metadata": {
    "collapsed": false
   },
   "outputs": [
    {
     "name": "stdout",
     "output_type": "stream",
     "text": [
      "<class 'pandas.core.frame.DataFrame'>\n",
      "RangeIndex: 143 entries, 0 to 142\n",
      "Data columns (total 18 columns):\n",
      "Address                   143 non-null object\n",
      "Address - Zip Code        143 non-null int64\n",
      "# of Garage Spaces        143 non-null int64\n",
      "Bathrooms - Full          143 non-null int64\n",
      "Bathrooms - Half          143 non-null int64\n",
      "Bedrooms                  143 non-null int64\n",
      "HOA Dues                  143 non-null int64\n",
      "Listing Price             143 non-null int64\n",
      "Price_Per_SQFT_LISTING    143 non-null float64\n",
      "Lot Size - Sq Ft          143 non-null int64\n",
      "Listing Date              143 non-null object\n",
      "Pending Date              0 non-null float64\n",
      "Pool                      143 non-null object\n",
      "Selling Date              0 non-null float64\n",
      "Selling Price             0 non-null float64\n",
      "Selling_Price_Per_Sqft    0 non-null float64\n",
      "Square Footage            143 non-null int64\n",
      "Year Built                139 non-null float64\n",
      "dtypes: float64(6), int64(9), object(3)\n",
      "memory usage: 20.2+ KB\n"
     ]
    }
   ],
   "source": [
    "#Now taking a look at the houses that we want to predict \n",
    "predictions.info()"
   ]
  },
  {
   "cell_type": "markdown",
   "metadata": {},
   "source": [
    "So we notice that there are missing values for Year Built for both the prediction file as well as the data file. We can also get drop some variables that we will not need.  "
   ]
  },
  {
   "cell_type": "code",
   "execution_count": 11,
   "metadata": {
    "collapsed": true
   },
   "outputs": [],
   "source": [
    "prices = data['Selling Price']\n",
    "predictions.drop('Selling Price', axis = 1, inplace = True)\n",
    "predictions.drop('Selling_Price_Per_Sqft', axis = 1, inplace = True)\n",
    "data.drop('Selling_Price_Per_Sqft', axis = 1, inplace = True)\n",
    "origList_Price = predictions['Listing Price']\n",
    "orig_address = predictions['Address']"
   ]
  },
  {
   "cell_type": "markdown",
   "metadata": {},
   "source": [
    "Now I can create some type of performance metric to measure objectively how well the algorithm is performing. I'm using the r2_score to mark the difference between the predicted score and the actual scores. If we minimize the difference between the actual price and the predicted price, then the algorithm is performing well. After that we will do some cleaning and some feature engineering to get the data ready. "
   ]
  },
  {
   "cell_type": "code",
   "execution_count": 12,
   "metadata": {
    "collapsed": true
   },
   "outputs": [],
   "source": [
    "from sklearn.metrics import mean_squared_error\n",
    "def performance_metric(y_true, y_predict):\n",
    "    # Calculates and returns the performance score between \n",
    "    # true and predicted values based on the metric chosen.\n",
    "    \n",
    "    score = mean_squared_error(y_true, y_predict)\n",
    "    \n",
    "    # Return the score\n",
    "    return score"
   ]
  },
  {
   "cell_type": "code",
   "execution_count": 13,
   "metadata": {
    "collapsed": true
   },
   "outputs": [],
   "source": [
    "#This shows when a part of the code is processed\n",
    "def status(feature):\n",
    "\n",
    "    print 'Processing',feature,': ok'"
   ]
  },
  {
   "cell_type": "code",
   "execution_count": 14,
   "metadata": {
    "collapsed": false
   },
   "outputs": [
    {
     "name": "stdout",
     "output_type": "stream",
     "text": [
      "Processing Pool : ok\n"
     ]
    }
   ],
   "source": [
    "#If House has pool, then assign a 1, otherwise a 0. \n",
    "def get_pool():\n",
    "\n",
    "    Pool_dict = {\n",
    "                    \"YESY\": \"1\",\n",
    "                    \"NONO\": \"0\"\n",
    "                }\n",
    "    data['Pool'] = data.Pool.map(Pool_dict).astype(int)\n",
    "    predictions['Pool'] = predictions.Pool.map(Pool_dict).astype(int)\n",
    "    status('Pool')\n",
    "get_pool()"
   ]
  },
  {
   "cell_type": "code",
   "execution_count": 15,
   "metadata": {
    "collapsed": false
   },
   "outputs": [
    {
     "name": "stdout",
     "output_type": "stream",
     "text": [
      "Processing Total Bathrooms in House : ok\n"
     ]
    }
   ],
   "source": [
    "def get_bath():\n",
    "    data['Bathrooms - Half'] = data['Bathrooms - Half'] / 2\n",
    "    data['Total Bathrooms'] = data['Bathrooms - Full'] + data['Bathrooms - Half']\n",
    "\n",
    "    predictions['Bathrooms - Half'] = predictions['Bathrooms - Half'] / 2\n",
    "    predictions['Total Bathrooms'] = predictions['Bathrooms - Full'] + predictions['Bathrooms - Half']\n",
    "\n",
    "    #Drop Half and Full bathrooms, because feature redundant\n",
    "    data.drop('Bathrooms - Full', axis = 1, inplace = True)\n",
    "    data.drop('Bathrooms - Half', axis = 1, inplace = True)\n",
    "\n",
    "    predictions.drop('Bathrooms - Full', axis = 1, inplace = True)\n",
    "    predictions.drop('Bathrooms - Half', axis = 1, inplace = True)\n",
    "    status('Total Bathrooms in House')\n",
    "get_bath()"
   ]
  },
  {
   "cell_type": "code",
   "execution_count": 16,
   "metadata": {
    "collapsed": false
   },
   "outputs": [
    {
     "name": "stdout",
     "output_type": "stream",
     "text": [
      "Processing Lot Size - Sq Ft : ok\n"
     ]
    }
   ],
   "source": [
    "#Hardcoding the lot size based off median of zipcode. will generalize later to include all zip codes. \n",
    "def process_lotsize():\n",
    "    \n",
    "\n",
    "    def fillLotSize(row):\n",
    "        if row['Address - Zip Code'] == 95240:\n",
    "            return 5663\n",
    "        elif row['Address - Zip Code'] == 95242:\n",
    "            return 6456\n",
    "        elif row['Address - Zip Code'] == 95209:\n",
    "            return 6098\n",
    "        elif row['Address - Zip Code'] == 95219:\n",
    "            return 6928    \n",
    "    data['Lot Size - Sq Ft'] = data.apply(lambda r: fillLotSize(r) if np.isnan(r['Lot Size - Sq Ft']) else r['Lot Size - Sq Ft'], axis = 1)\n",
    "    data['Lot Size - Sq Ft'] = data.apply(lambda r: fillLotSize(r) if r['Lot Size - Sq Ft'] == 0 else r['Lot Size - Sq Ft'], axis = 1)\n",
    "    predictions['Lot Size - Sq Ft'] = predictions.apply(lambda r: fillLotSize(r) if np.isnan(r['Lot Size - Sq Ft']) else r['Lot Size - Sq Ft'], axis = 1)\n",
    "    predictions['Lot Size - Sq Ft'] = predictions.apply(lambda r: fillLotSize(r) if r['Lot Size - Sq Ft'] == 0 else r['Lot Size - Sq Ft'], axis = 1)\n",
    "    status('Lot Size - Sq Ft')\n",
    "process_lotsize()    "
   ]
  },
  {
   "cell_type": "code",
   "execution_count": 17,
   "metadata": {
    "collapsed": false
   },
   "outputs": [
    {
     "name": "stdout",
     "output_type": "stream",
     "text": [
      "Processing Year Built : ok\n"
     ]
    }
   ],
   "source": [
    "#Harcode the year built, will generalize for all zip codes later\n",
    "def process_yearBuilt():\n",
    "\n",
    "    def fillYearBuilt(row):\n",
    "        if row['Address - Zip Code'] == 95240:\n",
    "            return 1963\n",
    "        elif row['Address - Zip Code'] == 95242:\n",
    "            return 1985\n",
    "        elif row['Address - Zip Code'] == 95209:\n",
    "            return 2002\n",
    "        elif row['Address - Zip Code'] == 95219:\n",
    "            return 2005\n",
    "    data['Year Built'] = data.apply(lambda r: fillYearBuilt(r) if np.isnan(r['Year Built']) else r['Year Built'], axis = 1)\n",
    "    predictions['Year Built'] = predictions.apply(lambda r: fillYearBuilt(r) if np.isnan(r['Year Built']) else r['Year Built'], axis = 1)\n",
    "    status('Year Built')\n",
    "\n",
    "process_yearBuilt()"
   ]
  },
  {
   "cell_type": "code",
   "execution_count": 18,
   "metadata": {
    "collapsed": false
   },
   "outputs": [
    {
     "name": "stdout",
     "output_type": "stream",
     "text": [
      "Processing Zip Code : ok\n"
     ]
    }
   ],
   "source": [
    "#Use binary option to show zipcodes\n",
    "def process_area():\n",
    "    global data\n",
    "    global predictions\n",
    "\n",
    "    #Clean the address variable\n",
    "    data.drop('Address', axis = 1, inplace = True)\n",
    "    predictions.drop('Address', axis = 1, inplace = True)\n",
    "\n",
    "#     # #encode dummy variables\n",
    "#     zipcode_dummies = pd.get_dummies(data['Address - Zip Code'], prefix = 'Zip Code')\n",
    "#     data = pd.concat([data, zipcode_dummies], axis = 1)\n",
    "\n",
    "#     zipcode_test_dummies = pd.get_dummies(predictions['Address - Zip Code'], prefix = 'Zip Code')\n",
    "#     predictions = pd.concat([predictions, zipcode_test_dummies], axis = 1)\n",
    "    \n",
    "#     #remove the zip code title\n",
    "#     data.drop('Address - Zip Code', axis = 1, inplace = True)\n",
    "#     predictions.drop('Address - Zip Code', axis = 1, inplace = True) \n",
    "    status('Zip Code')\n",
    "\n",
    "process_area()"
   ]
  },
  {
   "cell_type": "code",
   "execution_count": 19,
   "metadata": {
    "collapsed": false
   },
   "outputs": [
    {
     "name": "stdout",
     "output_type": "stream",
     "text": [
      "Processing Dropped Strings : ok\n"
     ]
    }
   ],
   "source": [
    "#Drop variables we don't need\n",
    "def drop_strings():\n",
    "\n",
    "    data.drop('Selling Date', axis = 1, inplace = True)\n",
    "\n",
    "    predictions.drop('Pending Date', axis = 1, inplace = True)\n",
    "    predictions.drop('Selling Date', axis = 1, inplace = True)\n",
    "    status('Dropped Strings')\n",
    "\n",
    "drop_strings()"
   ]
  },
  {
   "cell_type": "code",
   "execution_count": 20,
   "metadata": {
    "collapsed": false
   },
   "outputs": [
    {
     "name": "stdout",
     "output_type": "stream",
     "text": [
      "Processing Get Dates : ok\n"
     ]
    }
   ],
   "source": [
    "#Split the listing date into months and years\n",
    "def get_dates():\n",
    "\n",
    "    #get the months and years, not interested in the days\n",
    "    data['Month'] = data['Listing Date'].map(lambda listdate: listdate.split('/')[0].strip())\n",
    "    data['Year'] = data['Listing Date'].map(lambda listdate: listdate.split('/')[2].strip())\n",
    "\n",
    "    predictions['Month'] = predictions['Listing Date'].map(lambda listdate: listdate.split('/')[0].strip())\n",
    "    predictions['Year'] = predictions['Listing Date'].map(lambda listdate: listdate.split('/')[2].strip())\n",
    "\n",
    "    status(\"Get Dates\")\n",
    "\n",
    "get_dates()"
   ]
  },
  {
   "cell_type": "code",
   "execution_count": 21,
   "metadata": {
    "collapsed": false
   },
   "outputs": [
    {
     "name": "stdout",
     "output_type": "stream",
     "text": [
      "Processing Dates : ok\n"
     ]
    }
   ],
   "source": [
    "#Now we're going to process our dates\n",
    "def process_dates():\n",
    "\n",
    "    #Create column with years in integer before dropping the string version\n",
    "    data['intYear'] = data.Year.astype(int)\n",
    "    predictions['intYear'] = predictions.Year.astype(int)\n",
    "\n",
    "    #Now we drop all the variables that we don't need\n",
    "    data.drop('Year', axis = 1, inplace = True)\n",
    "    data.drop('Month', axis = 1, inplace = True)\n",
    "    \n",
    "    predictions.drop('Year', axis = 1, inplace = True)\n",
    "    predictions.drop('Month', axis = 1, inplace = True)\n",
    "    \n",
    "    status('Dates')\n",
    "\n",
    "process_dates()\n"
   ]
  },
  {
   "cell_type": "code",
   "execution_count": 22,
   "metadata": {
    "collapsed": false
   },
   "outputs": [
    {
     "name": "stdout",
     "output_type": "stream",
     "text": [
      "Processing Market Day Diff : ok\n"
     ]
    }
   ],
   "source": [
    "from datetime import datetime\n",
    "from datetime import date\n",
    "\n",
    "#Need to work on creating days on market column for test data\n",
    "def get_marketDate():\n",
    "\n",
    "    #Need to create Days on Market for training data\n",
    "    data['Listing Date'] = pd.to_datetime(data['Listing Date'])\n",
    "    data['Pending Date'] = pd.to_datetime(data['Pending Date'])\n",
    "    data['Days on Market'] = data['Pending Date'] - data['Listing Date']\n",
    "    data['Days on Market'] = (data['Days on Market'] / np.timedelta64(1, 'D')).astype(int)\n",
    "\n",
    "    predictions['temp'] = predictions['Listing Date']\n",
    "    predictions['temp'] = pd.to_datetime(predictions['temp'])\n",
    "    predictions['diff'] = predictions['temp'].map(lambda x: datetime.utcnow() - x)\n",
    "    predictions['Days on Market'] = (predictions['diff'] / np.timedelta64(1, 'D')).astype(int)\n",
    "\n",
    "    #Listing Date is a string we don't need anymore\n",
    "    data.drop('Listing Date', axis = 1, inplace = True)\n",
    "    data.drop('Pending Date', axis = 1, inplace = True)\n",
    "\n",
    "    predictions.drop('temp', axis = 1, inplace = True)\n",
    "    predictions.drop('diff', axis = 1, inplace = True)\n",
    "    predictions.drop('Listing Date', axis = 1, inplace = True)\n",
    "    \n",
    "    status('Market Day Diff')\n",
    "\n",
    "get_marketDate()"
   ]
  },
  {
   "cell_type": "markdown",
   "metadata": {
    "collapsed": true
   },
   "source": [
    "Now I'll take a look at whether or not all the missing values are filled and if indeed the data is ready to be trained by machine learning algorithms. The predictions and the data should have the same amount of features, but does not need to have the same amount of samples. "
   ]
  },
  {
   "cell_type": "code",
   "execution_count": 23,
   "metadata": {
    "collapsed": false
   },
   "outputs": [
    {
     "name": "stdout",
     "output_type": "stream",
     "text": [
      "<class 'pandas.core.frame.DataFrame'>\n",
      "RangeIndex: 7369 entries, 0 to 7368\n",
      "Data columns (total 14 columns):\n",
      "Address - Zip Code        7369 non-null int64\n",
      "# of Garage Spaces        7369 non-null int64\n",
      "Bedrooms                  7369 non-null int64\n",
      "HOA Dues                  7369 non-null int64\n",
      "Listing Price             7369 non-null int64\n",
      "Price_Per_SQFT_LISTING    7369 non-null float64\n",
      "Lot Size - Sq Ft          7369 non-null int64\n",
      "Pool                      7369 non-null int32\n",
      "Selling Price             7369 non-null int64\n",
      "Square Footage            7369 non-null int64\n",
      "Year Built                7369 non-null float64\n",
      "Total Bathrooms           7369 non-null float64\n",
      "intYear                   7369 non-null int32\n",
      "Days on Market            7369 non-null int32\n",
      "dtypes: float64(3), int32(3), int64(8)\n",
      "memory usage: 719.7 KB\n",
      "<class 'pandas.core.frame.DataFrame'>\n",
      "RangeIndex: 143 entries, 0 to 142\n",
      "Data columns (total 13 columns):\n",
      "Address - Zip Code        143 non-null int64\n",
      "# of Garage Spaces        143 non-null int64\n",
      "Bedrooms                  143 non-null int64\n",
      "HOA Dues                  143 non-null int64\n",
      "Listing Price             143 non-null int64\n",
      "Price_Per_SQFT_LISTING    143 non-null float64\n",
      "Lot Size - Sq Ft          143 non-null int64\n",
      "Pool                      143 non-null int32\n",
      "Square Footage            143 non-null int64\n",
      "Year Built                143 non-null float64\n",
      "Total Bathrooms           143 non-null float64\n",
      "intYear                   143 non-null int32\n",
      "Days on Market            143 non-null int32\n",
      "dtypes: float64(3), int32(3), int64(7)\n",
      "memory usage: 12.9 KB\n"
     ]
    },
    {
     "data": {
      "text/plain": [
       "(None, None)"
      ]
     },
     "execution_count": 23,
     "metadata": {},
     "output_type": "execute_result"
    }
   ],
   "source": [
    "data.info(), predictions.info()"
   ]
  },
  {
   "cell_type": "markdown",
   "metadata": {},
   "source": [
    "Here we see that our data is ready to be trained since there are no missing values and each feauture is either a float or an integer. The Zip Codes got split into dummy variables. The training has an extra feature (Selling Price), but that will be removed shortly after this. If the algorithm performs slowly, I can normalize or standardize the data so that the algorithms converge to a global minimum for optimization. \n"
   ]
  },
  {
   "cell_type": "code",
   "execution_count": 24,
   "metadata": {
    "collapsed": false
   },
   "outputs": [
    {
     "name": "stderr",
     "output_type": "stream",
     "text": [
      "C:\\Users\\Damanjit\\Anaconda2\\lib\\site-packages\\sklearn\\cross_validation.py:44: DeprecationWarning: This module was deprecated in version 0.18 in favor of the model_selection module into which all the refactored classes and functions are moved. Also note that the interface of the new CV iterators are different from that of this module. This module will be removed in 0.20.\n",
      "  \"This module will be removed in 0.20.\", DeprecationWarning)\n",
      "C:\\Users\\Damanjit\\Anaconda2\\lib\\site-packages\\sklearn\\grid_search.py:43: DeprecationWarning: This module was deprecated in version 0.18 in favor of the model_selection module into which all the refactored classes and functions are moved. This module will be removed in 0.20.\n",
      "  DeprecationWarning)\n"
     ]
    },
    {
     "name": "stdout",
     "output_type": "stream",
     "text": [
      "Parameter 'max_depth' is 7 for the optimal model.\n"
     ]
    }
   ],
   "source": [
    "# import all the necessary libraries\n",
    "from sklearn.cross_validation import ShuffleSplit\n",
    "from sklearn.cross_validation import train_test_split\n",
    "from sklearn.tree import DecisionTreeRegressor\n",
    "from sklearn.metrics import make_scorer\n",
    "from sklearn.grid_search import GridSearchCV\n",
    "from sklearn.metrics import r2_score\n",
    "\n",
    "features = data.drop('Selling Price', axis = 1, inplace = True)\n",
    "\n",
    "X = data\n",
    "y = prices\n",
    "# Shuffle and split the data into training and testing subsets\n",
    "X_train, X_test, y_train, y_test = train_test_split(X, y, test_size=0.20, train_size=0.80, random_state=50)\n",
    "\n",
    "def fit_model(X, y):\n",
    "    # \"\"\" Performs grid search over the 'max_depth' parameter for a \n",
    "    #     decision tree regressor trained on the input data [X, y]. \"\"\"\n",
    "    \n",
    "    # Create cross-validation sets from the training data\n",
    "    cv_sets = ShuffleSplit(X.shape[0], n_iter = 10, test_size = 0.20, random_state = 0)\n",
    "\n",
    "    #Create a decision tree regressor object\n",
    "    regressor = DecisionTreeRegressor()\n",
    "\n",
    "    #Create a dictionary for the parameter 'max_depth' with a range from 1 to 10\n",
    "    params = {\"max_depth\":range(1,10)}\n",
    "\n",
    "\n",
    "    #Create the grid search object\n",
    "    grid = GridSearchCV(regressor, params, scoring = 'neg_mean_squared_error', cv = cv_sets)\n",
    "\n",
    "    # Fit the grid search object to the data to compute the optimal model\n",
    "    grid = grid.fit(X, y)\n",
    "\n",
    "    # Return the optimal model after fitting the data\n",
    "    return grid.best_estimator_\n",
    "\n",
    "# Fit the training data to the model using grid search\n",
    "reg = fit_model(X_train, y_train)\n",
    "\n",
    "#Produce the value for 'max_depth'\n",
    "print \"Parameter 'max_depth' is {} for the optimal model.\".format(reg.get_params()['max_depth']) \n",
    "\n",
    "output = reg.predict(predictions).astype(int)\n",
    "df_output = pd.DataFrame()\n",
    "df_output['Listing Price'] = origList_Price\n",
    "df_output['Predicted Selling Price'] = output\n",
    "df_output['Address'] = orig_address\n",
    "df_output[['Address', 'Listing Price','Predicted Selling Price']].to_csv('C:/Users/Damanjit/Documents/HousingPrediction/decisionTreePredictions.csv',index=False)"
   ]
  },
  {
   "cell_type": "code",
   "execution_count": 25,
   "metadata": {
    "collapsed": false
   },
   "outputs": [
    {
     "data": {
      "text/html": [
       "<div>\n",
       "<table border=\"1\" class=\"dataframe\">\n",
       "  <thead>\n",
       "    <tr style=\"text-align: right;\">\n",
       "      <th></th>\n",
       "      <th>Address</th>\n",
       "      <th>Listing Price</th>\n",
       "      <th>Predicted Selling Price</th>\n",
       "    </tr>\n",
       "  </thead>\n",
       "  <tbody>\n",
       "    <tr>\n",
       "      <th>0</th>\n",
       "      <td>309 Leland Ct, Lodi, CA 95242-3328</td>\n",
       "      <td>549000</td>\n",
       "      <td>535600</td>\n",
       "    </tr>\n",
       "    <tr>\n",
       "      <th>1</th>\n",
       "      <td>520 N Lower Sacramento Rd, Lodi, CA 95242-2115</td>\n",
       "      <td>739950</td>\n",
       "      <td>817500</td>\n",
       "    </tr>\n",
       "    <tr>\n",
       "      <th>2</th>\n",
       "      <td>2581 Central Park Dr, Lodi, CA 95242-3232</td>\n",
       "      <td>367000</td>\n",
       "      <td>358845</td>\n",
       "    </tr>\n",
       "    <tr>\n",
       "      <th>3</th>\n",
       "      <td>2407 Corbin Lane, Lodi, CA 95242</td>\n",
       "      <td>318000</td>\n",
       "      <td>310455</td>\n",
       "    </tr>\n",
       "    <tr>\n",
       "      <th>4</th>\n",
       "      <td>647 El Capitan, Lodi, CA 95242</td>\n",
       "      <td>319900</td>\n",
       "      <td>308933</td>\n",
       "    </tr>\n",
       "    <tr>\n",
       "      <th>5</th>\n",
       "      <td>717 Peach St, Lodi, CA 95242-3638</td>\n",
       "      <td>219000</td>\n",
       "      <td>215669</td>\n",
       "    </tr>\n",
       "    <tr>\n",
       "      <th>6</th>\n",
       "      <td>721 Rutledge Dr, Lodi, CA 95242</td>\n",
       "      <td>315000</td>\n",
       "      <td>308933</td>\n",
       "    </tr>\n",
       "    <tr>\n",
       "      <th>7</th>\n",
       "      <td>1618 S Lower Sacramento Rd, Lodi, CA 95242-9571</td>\n",
       "      <td>949000</td>\n",
       "      <td>899000</td>\n",
       "    </tr>\n",
       "    <tr>\n",
       "      <th>8</th>\n",
       "      <td>870 Rutledge Dr., Lodi, CA 95242</td>\n",
       "      <td>185000</td>\n",
       "      <td>186337</td>\n",
       "    </tr>\n",
       "    <tr>\n",
       "      <th>9</th>\n",
       "      <td>910 Tehama Dr, Lodi, CA 95242-9553</td>\n",
       "      <td>595000</td>\n",
       "      <td>579350</td>\n",
       "    </tr>\n",
       "    <tr>\n",
       "      <th>10</th>\n",
       "      <td>2069 Incline, Lodi, CA 95242</td>\n",
       "      <td>528000</td>\n",
       "      <td>497833</td>\n",
       "    </tr>\n",
       "    <tr>\n",
       "      <th>11</th>\n",
       "      <td>2570 Legacy Way, Lodi, CA 95242-4821</td>\n",
       "      <td>515000</td>\n",
       "      <td>497833</td>\n",
       "    </tr>\n",
       "    <tr>\n",
       "      <th>12</th>\n",
       "      <td>2351 Saint Anton Dr, Lodi, CA 95242-9100</td>\n",
       "      <td>699000</td>\n",
       "      <td>653316</td>\n",
       "    </tr>\n",
       "    <tr>\n",
       "      <th>13</th>\n",
       "      <td>2530 Legacy Way, Lodi, CA 95242</td>\n",
       "      <td>512900</td>\n",
       "      <td>497833</td>\n",
       "    </tr>\n",
       "    <tr>\n",
       "      <th>14</th>\n",
       "      <td>303 Rainier Dr, Lodi, CA 95242-2627</td>\n",
       "      <td>335000</td>\n",
       "      <td>330449</td>\n",
       "    </tr>\n",
       "  </tbody>\n",
       "</table>\n",
       "</div>"
      ],
      "text/plain": [
       "                                            Address  Listing Price  \\\n",
       "0                309 Leland Ct, Lodi, CA 95242-3328         549000   \n",
       "1    520 N Lower Sacramento Rd, Lodi, CA 95242-2115         739950   \n",
       "2         2581 Central Park Dr, Lodi, CA 95242-3232         367000   \n",
       "3                  2407 Corbin Lane, Lodi, CA 95242         318000   \n",
       "4                    647 El Capitan, Lodi, CA 95242         319900   \n",
       "5                 717 Peach St, Lodi, CA 95242-3638         219000   \n",
       "6                   721 Rutledge Dr, Lodi, CA 95242         315000   \n",
       "7   1618 S Lower Sacramento Rd, Lodi, CA 95242-9571         949000   \n",
       "8                  870 Rutledge Dr., Lodi, CA 95242         185000   \n",
       "9                910 Tehama Dr, Lodi, CA 95242-9553         595000   \n",
       "10                     2069 Incline, Lodi, CA 95242         528000   \n",
       "11             2570 Legacy Way, Lodi, CA 95242-4821         515000   \n",
       "12         2351 Saint Anton Dr, Lodi, CA 95242-9100         699000   \n",
       "13                  2530 Legacy Way, Lodi, CA 95242         512900   \n",
       "14              303 Rainier Dr, Lodi, CA 95242-2627         335000   \n",
       "\n",
       "    Predicted Selling Price  \n",
       "0                    535600  \n",
       "1                    817500  \n",
       "2                    358845  \n",
       "3                    310455  \n",
       "4                    308933  \n",
       "5                    215669  \n",
       "6                    308933  \n",
       "7                    899000  \n",
       "8                    186337  \n",
       "9                    579350  \n",
       "10                   497833  \n",
       "11                   497833  \n",
       "12                   653316  \n",
       "13                   497833  \n",
       "14                   330449  "
      ]
     },
     "execution_count": 25,
     "metadata": {},
     "output_type": "execute_result"
    }
   ],
   "source": [
    "dec_tree_reg = pd.read_csv('C:/Users/Damanjit/Documents/HousingPrediction/decisionTreePredictions.csv')\n",
    "dec_tree_reg.head(15)"
   ]
  },
  {
   "cell_type": "markdown",
   "metadata": {},
   "source": [
    "The model that I just created used a decision tree regressor to predict the selling prices of houses. The performance metric that was used was the r2_score, and it outputted that optimal model to use had a maximum depth of 6.The optimal depth sometimes is also 5 or sometimes 6. From the outputted file, I can see that it did not do a bad job (Meaning it's at least around the listing price, rather than predicting in the magnitude of 10,000's) of predicting prices, but the higher the prices are the more distance between the predicted selling price and the listed price. This could be a consequence of not having enough samples that correspond to a higher listing price as seen in the initial graph ('Training Data: Listing Price vs. Selling Price'). Let's try different algorithms and see if they give any better predictions. \n"
   ]
  },
  {
   "cell_type": "code",
   "execution_count": 26,
   "metadata": {
    "collapsed": false
   },
   "outputs": [],
   "source": [
    "#Modified this code from AnalyticsVidha\n",
    "def modelfit(alg, X, y, performCV = True, printFeatureImportance = True, cv_folds = 5):\n",
    "    #Fit the algorithm on the data\n",
    "    alg.fit(X, y)\n",
    "        \n",
    "    #Predict training set:\n",
    "    train_predictions = alg.predict(X)\n",
    "    \n",
    "    #Perform cross-validation:\n",
    "    if performCV:\n",
    "        cv_score = cross_validation.cross_val_score(alg, X, y, cv = cv_folds)\n",
    "        cv_score_mse = cross_validation.cross_val_score(alg, X, y, cv =cv_folds, scoring = 'neg_mean_squared_error')\n",
    "    \n",
    "    #Print model report:\n",
    "    print \"\\nModel Report\"\n",
    "    print \"Mean Squared Error : %.4g\" % metrics.mean_squared_error(y, train_predictions)\n",
    "    print \"r2 Score: %f\" % metrics.r2_score(y, train_predictions)\n",
    "    \n",
    "    if performCV:\n",
    "        print \"CV Score : Mean - %.7g | Std - %.7g | Min - %.7g | Max - %.7g\" % (np.mean(cv_score), np.std(cv_score), np.min(cv_score), np.max(cv_score))\n",
    "        print \"CV Score MSE : Mean - %.7g | Std - %.7g | Min - %.7g | Max - %.7g\" % (np.mean(cv_score_mse), np.std(cv_score_mse), np.min(cv_score_mse), np.max(cv_score_mse))\n",
    "    #Print Feature Importance:\n",
    "    if printFeatureImportance:\n",
    "        feat_imp = pd.Series(alg.feature_importances_, X.columns).sort_values(ascending=False)\n",
    "        feat_imp.plot(kind='bar', title='Feature Importances')\n",
    "        pl.ylabel('Feature Importance Score')"
   ]
  },
  {
   "cell_type": "code",
   "execution_count": 27,
   "metadata": {
    "collapsed": false
   },
   "outputs": [
    {
     "name": "stdout",
     "output_type": "stream",
     "text": [
      "\n",
      "Model Report\n",
      "Mean Squared Error : 1.093e+08\n",
      "r2 Score: 0.988574\n",
      "CV Score : Mean - 0.9630119 | Std - 0.03107618 | Min - 0.9066932 | Max - 0.988233\n",
      "CV Score MSE : Mean - -1.644906e+08 | Std - 5.053188e+07 | Min - -2.484237e+08 | Max - -1.102164e+08\n"
     ]
    },
    {
     "data": {
      "image/png": "[encoded data removed]",
      "text/plain": [
       "<matplotlib.figure.Figure at 0xbfab6a0>"
      ]
     },
     "metadata": {},
     "output_type": "display_data"
    }
   ],
   "source": [
    "from sklearn import ensemble\n",
    "from sklearn import cross_validation, metrics\n",
    "gb_baseline = ensemble.GradientBoostingRegressor(random_state = 10)\n",
    "modelfit(gb_baseline, X, y)"
   ]
  },
  {
   "cell_type": "markdown",
   "metadata": {},
   "source": [
    "Here I am using a gradient boosting regressor to model the predictions. I'm using a baseline model to measure how certain parameters will affect the mean squared error. I'm hoping to minimize the error looking at the cross validation score. Here it is showing that it is around (1.644906 * 10^8) . The coefficient of determination shows the proportion of the variance in the dependent variable that is predictable from the independent variable (Wikipedia). The features are shown in terms of importance with the Listing Price as having the highest importance. This is beause most people originally list their houses at prices they think a buyer will buy in the current market conditions so that it can sell more quickly. AS previously noted, most listed prices are based off of similar homes recently sold within the same area, so the listing price should be around market value. In the following codes, I will tune parameters so I can minimize the mean squared error in cross validation set. "
   ]
  },
  {
   "cell_type": "code",
   "execution_count": 28,
   "metadata": {
    "collapsed": false,
    "scrolled": true
   },
   "outputs": [
    {
     "data": {
      "text/plain": [
       "GridSearchCV(cv=5, error_score='raise',\n",
       "       estimator=GradientBoostingRegressor(alpha=0.9, criterion='friedman_mse', init=None,\n",
       "             learning_rate=0.05, loss='ls', max_depth=6,\n",
       "             max_features='auto', max_leaf_nodes=None,\n",
       "             min_impurity_split=1e-07, min_samples_leaf=2,\n",
       "             min_samples_split=40, min_weight_fraction_leaf=0.0,\n",
       "             n_estimators=100, presort='auto', random_state=10,\n",
       "             subsample=0.8, verbose=0, warm_start=False),\n",
       "       fit_params={}, iid=False, n_jobs=4,\n",
       "       param_grid={'n_estimators': [80, 100, 120, 140, 160, 180, 200, 220, 240]},\n",
       "       pre_dispatch='2*n_jobs', refit=True,\n",
       "       scoring='neg_mean_squared_error', verbose=0)"
      ]
     },
     "execution_count": 28,
     "metadata": {},
     "output_type": "execute_result"
    }
   ],
   "source": [
    "param_test1 = {'n_estimators': range(80, 241, 20)}\n",
    "gsearch1 = GridSearchCV(estimator = ensemble.GradientBoostingRegressor(learning_rate = 0.05, min_samples_split = 40, min_samples_leaf = 2, max_depth = 6, max_features = 'auto', subsample = 0.8, random_state = 10), \n",
    "param_grid = param_test1, scoring='neg_mean_squared_error', n_jobs = 4, iid = False, cv = 5)\n",
    "gsearch1.fit(X,y)"
   ]
  },
  {
   "cell_type": "code",
   "execution_count": 29,
   "metadata": {
    "collapsed": false
   },
   "outputs": [
    {
     "data": {
      "text/plain": [
       "([mean: -229734420.15526, std: 85292160.86980, params: {'n_estimators': 80},\n",
       "  mean: -225936783.63577, std: 86036764.17560, params: {'n_estimators': 100},\n",
       "  mean: -225228117.67666, std: 85795262.40501, params: {'n_estimators': 120},\n",
       "  mean: -224300153.91611, std: 85177386.61146, params: {'n_estimators': 140},\n",
       "  mean: -224649441.12414, std: 85073614.18404, params: {'n_estimators': 160},\n",
       "  mean: -225229385.07705, std: 84711256.78779, params: {'n_estimators': 180},\n",
       "  mean: -225803009.16936, std: 83895879.82055, params: {'n_estimators': 200},\n",
       "  mean: -226172914.35506, std: 83841419.33206, params: {'n_estimators': 220},\n",
       "  mean: -226504275.63895, std: 83821010.36550, params: {'n_estimators': 240}],\n",
       " {'n_estimators': 140},\n",
       " -224300153.9161083)"
      ]
     },
     "execution_count": 29,
     "metadata": {},
     "output_type": "execute_result"
    }
   ],
   "source": [
    "gsearch1.grid_scores_, gsearch1.best_params_, gsearch1.best_score_"
   ]
  },
  {
   "cell_type": "markdown",
   "metadata": {},
   "source": [
    "From this we can see that the mean squared error is minimized when the number of estimators is 140. The number of estimator is the number of sequential trees that is going to be modeled. The learning rate(0.05) is fairly low making it robust to specific features in the tree. It also has a higher chance of converging towards the global minimum. The only downside that this might cause is that if there is a large number of trees, it can be computationally expensive. The subsample is set to 0.8 to reduce the variance. Now I will tune tree-specific paramters to see what should be the maximum depth of the tree as well as the minimum samples split. "
   ]
  },
  {
   "cell_type": "code",
   "execution_count": 30,
   "metadata": {
    "collapsed": false
   },
   "outputs": [
    {
     "data": {
      "text/plain": [
       "([mean: -306282532.91146, std: 169320334.40202, params: {'min_samples_split': 40, 'max_depth': 1},\n",
       "  mean: -306282532.91146, std: 169320334.40202, params: {'min_samples_split': 60, 'max_depth': 1},\n",
       "  mean: -306282532.91146, std: 169320334.40202, params: {'min_samples_split': 80, 'max_depth': 1},\n",
       "  mean: -306282532.91146, std: 169320334.40202, params: {'min_samples_split': 100, 'max_depth': 1},\n",
       "  mean: -306282532.91146, std: 169320334.40202, params: {'min_samples_split': 120, 'max_depth': 1},\n",
       "  mean: -306282532.91146, std: 169320334.40202, params: {'min_samples_split': 140, 'max_depth': 1},\n",
       "  mean: -306282532.91146, std: 169320334.40202, params: {'min_samples_split': 160, 'max_depth': 1},\n",
       "  mean: -161807684.10272, std: 50130514.98814, params: {'min_samples_split': 40, 'max_depth': 2},\n",
       "  mean: -162388672.42399, std: 50010295.38952, params: {'min_samples_split': 60, 'max_depth': 2},\n",
       "  mean: -162389201.03269, std: 50009832.92635, params: {'min_samples_split': 80, 'max_depth': 2},\n",
       "  mean: -162003165.84628, std: 49388389.39675, params: {'min_samples_split': 100, 'max_depth': 2},\n",
       "  mean: -161814870.34844, std: 49033839.83517, params: {'min_samples_split': 120, 'max_depth': 2},\n",
       "  mean: -161389525.94803, std: 49047579.86430, params: {'min_samples_split': 140, 'max_depth': 2},\n",
       "  mean: -161948433.81971, std: 49783483.89832, params: {'min_samples_split': 160, 'max_depth': 2},\n",
       "  mean: -163157524.23914, std: 41765849.14594, params: {'min_samples_split': 40, 'max_depth': 3},\n",
       "  mean: -161887010.99212, std: 41373086.52002, params: {'min_samples_split': 60, 'max_depth': 3},\n",
       "  mean: -161684906.81315, std: 40221613.26217, params: {'min_samples_split': 80, 'max_depth': 3},\n",
       "  mean: -162771293.04430, std: 41489278.22940, params: {'min_samples_split': 100, 'max_depth': 3},\n",
       "  mean: -159593273.24619, std: 43315570.60098, params: {'min_samples_split': 120, 'max_depth': 3},\n",
       "  mean: -161393298.75090, std: 42610077.82380, params: {'min_samples_split': 140, 'max_depth': 3},\n",
       "  mean: -158997268.03238, std: 41945737.03127, params: {'min_samples_split': 160, 'max_depth': 3},\n",
       "  mean: -190686898.88621, std: 51491508.69808, params: {'min_samples_split': 40, 'max_depth': 4},\n",
       "  mean: -185246462.38746, std: 47489141.95871, params: {'min_samples_split': 60, 'max_depth': 4},\n",
       "  mean: -189154028.54883, std: 50282485.23170, params: {'min_samples_split': 80, 'max_depth': 4},\n",
       "  mean: -188998661.20666, std: 51730011.98565, params: {'min_samples_split': 100, 'max_depth': 4},\n",
       "  mean: -187939504.48719, std: 50974635.85683, params: {'min_samples_split': 120, 'max_depth': 4},\n",
       "  mean: -189113460.98911, std: 50591799.22056, params: {'min_samples_split': 140, 'max_depth': 4},\n",
       "  mean: -188671645.37866, std: 50595908.05266, params: {'min_samples_split': 160, 'max_depth': 4},\n",
       "  mean: -217185991.24679, std: 74328498.77914, params: {'min_samples_split': 40, 'max_depth': 5},\n",
       "  mean: -214457297.73981, std: 70171333.32145, params: {'min_samples_split': 60, 'max_depth': 5},\n",
       "  mean: -212354392.94757, std: 69113030.05520, params: {'min_samples_split': 80, 'max_depth': 5},\n",
       "  mean: -211612713.43830, std: 66994448.90969, params: {'min_samples_split': 100, 'max_depth': 5},\n",
       "  mean: -206105585.45172, std: 64071900.54710, params: {'min_samples_split': 120, 'max_depth': 5},\n",
       "  mean: -208427645.99859, std: 66615853.92222, params: {'min_samples_split': 140, 'max_depth': 5},\n",
       "  mean: -206253609.95418, std: 65829458.81273, params: {'min_samples_split': 160, 'max_depth': 5},\n",
       "  mean: -230369113.47389, std: 93146243.61366, params: {'min_samples_split': 40, 'max_depth': 6},\n",
       "  mean: -228064806.40302, std: 93851316.30614, params: {'min_samples_split': 60, 'max_depth': 6},\n",
       "  mean: -228488406.50412, std: 90961306.25183, params: {'min_samples_split': 80, 'max_depth': 6},\n",
       "  mean: -228294560.58122, std: 92890476.09705, params: {'min_samples_split': 100, 'max_depth': 6},\n",
       "  mean: -227012040.20865, std: 93242161.14002, params: {'min_samples_split': 120, 'max_depth': 6},\n",
       "  mean: -224676761.36226, std: 89086981.94141, params: {'min_samples_split': 140, 'max_depth': 6},\n",
       "  mean: -222696107.93236, std: 85318527.10214, params: {'min_samples_split': 160, 'max_depth': 6},\n",
       "  mean: -242937555.55322, std: 110372764.88380, params: {'min_samples_split': 40, 'max_depth': 7},\n",
       "  mean: -239844724.61272, std: 106001924.36338, params: {'min_samples_split': 60, 'max_depth': 7},\n",
       "  mean: -241896451.02623, std: 109238815.73587, params: {'min_samples_split': 80, 'max_depth': 7},\n",
       "  mean: -242114639.71970, std: 106809126.09854, params: {'min_samples_split': 100, 'max_depth': 7},\n",
       "  mean: -240156518.42629, std: 109215353.45454, params: {'min_samples_split': 120, 'max_depth': 7},\n",
       "  mean: -237159853.90110, std: 100162868.34890, params: {'min_samples_split': 140, 'max_depth': 7},\n",
       "  mean: -227185898.09774, std: 87601762.02047, params: {'min_samples_split': 160, 'max_depth': 7}],\n",
       " {'max_depth': 3, 'min_samples_split': 160},\n",
       " -158997268.03237554)"
      ]
     },
     "execution_count": 30,
     "metadata": {},
     "output_type": "execute_result"
    }
   ],
   "source": [
    "param_test2 = {'max_depth':range(1,8,1), 'min_samples_split':range(40,171,20)}\n",
    "gsearch2 = GridSearchCV(estimator = ensemble.GradientBoostingRegressor(learning_rate = 0.05, n_estimators = 140, max_features = 'auto', subsample = 0.8, random_state=10), \n",
    "param_grid = param_test2, scoring='neg_mean_squared_error', n_jobs = 4, iid = False, cv = 5)\n",
    "gsearch2.fit(X,y)\n",
    "gsearch2.grid_scores_, gsearch2.best_params_, gsearch2.best_score_"
   ]
  },
  {
   "cell_type": "markdown",
   "metadata": {},
   "source": [
    "From this we can see that the optimal maximum depth is 3, with a minimum samples split of 160. In the next paramater tuning, I will vary the minimum samples split since it was towards the higher portion of the range, as well as min_samples_leaf. "
   ]
  },
  {
   "cell_type": "code",
   "execution_count": 31,
   "metadata": {
    "collapsed": false
   },
   "outputs": [
    {
     "data": {
      "text/plain": [
       "([mean: -160715220.10791, std: 41619967.09495, params: {'min_samples_split': 100, 'min_samples_leaf': 2},\n",
       "  mean: -162579629.45230, std: 40358638.72169, params: {'min_samples_split': 110, 'min_samples_leaf': 2},\n",
       "  mean: -159598719.03129, std: 42378362.44700, params: {'min_samples_split': 120, 'min_samples_leaf': 2},\n",
       "  mean: -159626368.18942, std: 42239262.27135, params: {'min_samples_split': 130, 'min_samples_leaf': 2},\n",
       "  mean: -160241783.20453, std: 41786525.60794, params: {'min_samples_split': 140, 'min_samples_leaf': 2},\n",
       "  mean: -160246851.68157, std: 41751724.46275, params: {'min_samples_split': 150, 'min_samples_leaf': 2},\n",
       "  mean: -158788627.28838, std: 41785088.12635, params: {'min_samples_split': 160, 'min_samples_leaf': 2},\n",
       "  mean: -159869230.78537, std: 40725617.50082, params: {'min_samples_split': 170, 'min_samples_leaf': 2},\n",
       "  mean: -159612966.25196, std: 40397590.64142, params: {'min_samples_split': 180, 'min_samples_leaf': 2},\n",
       "  mean: -160536690.58271, std: 41346744.31485, params: {'min_samples_split': 190, 'min_samples_leaf': 2},\n",
       "  mean: -159803192.46540, std: 40733631.06252, params: {'min_samples_split': 200, 'min_samples_leaf': 2},\n",
       "  mean: -159992247.85321, std: 40766663.97222, params: {'min_samples_split': 210, 'min_samples_leaf': 2},\n",
       "  mean: -169398819.29140, std: 55538645.88956, params: {'min_samples_split': 100, 'min_samples_leaf': 3},\n",
       "  mean: -169951066.95628, std: 55079018.86921, params: {'min_samples_split': 110, 'min_samples_leaf': 3},\n",
       "  mean: -168982086.42008, std: 55909031.07116, params: {'min_samples_split': 120, 'min_samples_leaf': 3},\n",
       "  mean: -167839570.56941, std: 57262017.82637, params: {'min_samples_split': 130, 'min_samples_leaf': 3},\n",
       "  mean: -168097403.64949, std: 56798134.17766, params: {'min_samples_split': 140, 'min_samples_leaf': 3},\n",
       "  mean: -168612726.59957, std: 56590962.11725, params: {'min_samples_split': 150, 'min_samples_leaf': 3},\n",
       "  mean: -167026288.35239, std: 57938144.47960, params: {'min_samples_split': 160, 'min_samples_leaf': 3},\n",
       "  mean: -167747034.69416, std: 56161972.38658, params: {'min_samples_split': 170, 'min_samples_leaf': 3},\n",
       "  mean: -168071384.84336, std: 57286561.15242, params: {'min_samples_split': 180, 'min_samples_leaf': 3},\n",
       "  mean: -168782142.58506, std: 58214865.98354, params: {'min_samples_split': 190, 'min_samples_leaf': 3},\n",
       "  mean: -168371702.35078, std: 58229171.21088, params: {'min_samples_split': 200, 'min_samples_leaf': 3},\n",
       "  mean: -168500367.11232, std: 58265583.72543, params: {'min_samples_split': 210, 'min_samples_leaf': 3},\n",
       "  mean: -168632622.75420, std: 55093078.21870, params: {'min_samples_split': 100, 'min_samples_leaf': 4},\n",
       "  mean: -168333470.73851, std: 55150292.33483, params: {'min_samples_split': 110, 'min_samples_leaf': 4},\n",
       "  mean: -168394079.70994, std: 56247971.23927, params: {'min_samples_split': 120, 'min_samples_leaf': 4},\n",
       "  mean: -167434475.60513, std: 57501695.58167, params: {'min_samples_split': 130, 'min_samples_leaf': 4},\n",
       "  mean: -167016739.25456, std: 57510566.56965, params: {'min_samples_split': 140, 'min_samples_leaf': 4},\n",
       "  mean: -166731016.95515, std: 57005819.38197, params: {'min_samples_split': 150, 'min_samples_leaf': 4},\n",
       "  mean: -167512176.86922, std: 57191935.49262, params: {'min_samples_split': 160, 'min_samples_leaf': 4},\n",
       "  mean: -166937523.14713, std: 57594353.37654, params: {'min_samples_split': 170, 'min_samples_leaf': 4},\n",
       "  mean: -167329060.90887, std: 56554470.16144, params: {'min_samples_split': 180, 'min_samples_leaf': 4},\n",
       "  mean: -167751970.91069, std: 57033480.87924, params: {'min_samples_split': 190, 'min_samples_leaf': 4},\n",
       "  mean: -168118726.72432, std: 56727997.79111, params: {'min_samples_split': 200, 'min_samples_leaf': 4},\n",
       "  mean: -168015598.88596, std: 57293581.82271, params: {'min_samples_split': 210, 'min_samples_leaf': 4},\n",
       "  mean: -170931631.37890, std: 59557684.81344, params: {'min_samples_split': 100, 'min_samples_leaf': 5},\n",
       "  mean: -169721020.05951, std: 60493839.25781, params: {'min_samples_split': 110, 'min_samples_leaf': 5},\n",
       "  mean: -170449877.15894, std: 59873423.31779, params: {'min_samples_split': 120, 'min_samples_leaf': 5},\n",
       "  mean: -170221312.95119, std: 60418655.15216, params: {'min_samples_split': 130, 'min_samples_leaf': 5},\n",
       "  mean: -169261851.98218, std: 60079507.46565, params: {'min_samples_split': 140, 'min_samples_leaf': 5},\n",
       "  mean: -168630217.13001, std: 60189945.12034, params: {'min_samples_split': 150, 'min_samples_leaf': 5},\n",
       "  mean: -169494025.88152, std: 60401066.31496, params: {'min_samples_split': 160, 'min_samples_leaf': 5},\n",
       "  mean: -168619028.26716, std: 61410982.25006, params: {'min_samples_split': 170, 'min_samples_leaf': 5},\n",
       "  mean: -168795236.21640, std: 60726564.63663, params: {'min_samples_split': 180, 'min_samples_leaf': 5},\n",
       "  mean: -169214574.91706, std: 61324526.26915, params: {'min_samples_split': 190, 'min_samples_leaf': 5},\n",
       "  mean: -169067331.19438, std: 61351254.75328, params: {'min_samples_split': 200, 'min_samples_leaf': 5},\n",
       "  mean: -168829166.22858, std: 61271558.88888, params: {'min_samples_split': 210, 'min_samples_leaf': 5},\n",
       "  mean: -172133225.64660, std: 64948216.80061, params: {'min_samples_split': 100, 'min_samples_leaf': 6},\n",
       "  mean: -172032624.92496, std: 64855587.62580, params: {'min_samples_split': 110, 'min_samples_leaf': 6},\n",
       "  mean: -171947540.45243, std: 64996111.70085, params: {'min_samples_split': 120, 'min_samples_leaf': 6},\n",
       "  mean: -171324024.96477, std: 63875555.03483, params: {'min_samples_split': 130, 'min_samples_leaf': 6},\n",
       "  mean: -170367349.35987, std: 65090939.96549, params: {'min_samples_split': 140, 'min_samples_leaf': 6},\n",
       "  mean: -170442883.53422, std: 65165721.04498, params: {'min_samples_split': 150, 'min_samples_leaf': 6},\n",
       "  mean: -170845260.62018, std: 65070992.70926, params: {'min_samples_split': 160, 'min_samples_leaf': 6},\n",
       "  mean: -170173083.00842, std: 65334745.01237, params: {'min_samples_split': 170, 'min_samples_leaf': 6},\n",
       "  mean: -170544440.09267, std: 65857645.43801, params: {'min_samples_split': 180, 'min_samples_leaf': 6},\n",
       "  mean: -169672808.42994, std: 65282843.35489, params: {'min_samples_split': 190, 'min_samples_leaf': 6},\n",
       "  mean: -170101066.28655, std: 65091357.91923, params: {'min_samples_split': 200, 'min_samples_leaf': 6},\n",
       "  mean: -169720445.68506, std: 66096707.77838, params: {'min_samples_split': 210, 'min_samples_leaf': 6}],\n",
       " {'min_samples_leaf': 2, 'min_samples_split': 160},\n",
       " -158788627.28837687)"
      ]
     },
     "execution_count": 31,
     "metadata": {},
     "output_type": "execute_result"
    }
   ],
   "source": [
    "param_test3 = {'min_samples_split':range(100,211,10), 'min_samples_leaf':range(2,7,1)}\n",
    "gsearch3 = GridSearchCV(estimator = ensemble.GradientBoostingRegressor(learning_rate = 0.05, n_estimators = 140, max_depth = 3, max_features = 'auto', subsample = 0.8, random_state=10), \n",
    "param_grid = param_test3, scoring='neg_mean_squared_error', n_jobs = 4, iid = False, cv = 5)\n",
    "gsearch3.fit(X, y)\n",
    "gsearch3.grid_scores_, gsearch3.best_params_, gsearch3.best_score_"
   ]
  },
  {
   "cell_type": "markdown",
   "metadata": {},
   "source": [
    "From the portion of code above, we can see that the mean absolute error is minimized when the min_samples_leaf is equal to 2, and the min_samples_split is equal to 160. So now is a good idea to fit the model on this and see the features importance. "
   ]
  },
  {
   "cell_type": "code",
   "execution_count": 32,
   "metadata": {
    "collapsed": false
   },
   "outputs": [
    {
     "name": "stdout",
     "output_type": "stream",
     "text": [
      "\n",
      "Model Report\n",
      "Mean Squared Error : 1.192e+08\n",
      "r2 Score: 0.987547\n",
      "CV Score : Mean - 0.9641096 | Std - 0.02996431 | Min - 0.9096426 | Max - 0.9881911\n",
      "CV Score MSE : Mean - -1.587886e+08 | Std - 4.178509e+07 | Min - -2.2582e+08 | Max - -1.106084e+08\n"
     ]
    },
    {
     "data": {
      "image/png": "[encoded data removed]",
      "text/plain": [
       "<matplotlib.figure.Figure at 0x981d0f0>"
      ]
     },
     "metadata": {},
     "output_type": "display_data"
    }
   ],
   "source": [
    "modelfit(gsearch3.best_estimator_, X, y)"
   ]
  },
  {
   "cell_type": "markdown",
   "metadata": {},
   "source": [
    "From this we can see that the CV score for the mean squared has improved. I will fine tune some more parameters to see if the CV score for the mean squared error can be lower. I can also tune the amount of features being trained, to get a better CV score and a smaller mean squared error. "
   ]
  },
  {
   "cell_type": "code",
   "execution_count": 33,
   "metadata": {
    "collapsed": false
   },
   "outputs": [
    {
     "data": {
      "text/plain": [
       "([mean: -337697214.00450, std: 74712788.31415, params: {'max_features': 3},\n",
       "  mean: -226062461.49679, std: 35822430.31799, params: {'max_features': 5},\n",
       "  mean: -194904929.38548, std: 34921992.60568, params: {'max_features': 7},\n",
       "  mean: -177750372.82557, std: 29093880.79726, params: {'max_features': 9},\n",
       "  mean: -167147478.90764, std: 39894157.94864, params: {'max_features': 11},\n",
       "  mean: -158788627.28838, std: 41785088.12635, params: {'max_features': 13}],\n",
       " {'max_features': 13},\n",
       " -158788627.28837687)"
      ]
     },
     "execution_count": 33,
     "metadata": {},
     "output_type": "execute_result"
    }
   ],
   "source": [
    "param_test4 = {'max_features':range(3,14,2)}\n",
    "gsearch4 = GridSearchCV(estimator = ensemble.GradientBoostingRegressor(learning_rate = 0.05, n_estimators = 140, max_depth = 3, min_samples_split = 160, min_samples_leaf = 2, subsample = 0.8, random_state = 10),\n",
    "param_grid = param_test4, scoring='neg_mean_squared_error', n_jobs = 4,iid = False, cv = 5)\n",
    "gsearch4.fit(X,y)\n",
    "gsearch4.grid_scores_, gsearch4.best_params_, gsearch4.best_score_"
   ]
  },
  {
   "cell_type": "markdown",
   "metadata": {},
   "source": [
    "So the optimal value for number of features is 13, which is was the initial guess. The final tree parameters are the following max_depth = 3, min_samples_split = 160, min_samples_leaves = 2, max_features = 13\n",
    " \n",
    "Now we can change the subsample and see if it makes any difference with the final CV score. "
   ]
  },
  {
   "cell_type": "code",
   "execution_count": 34,
   "metadata": {
    "collapsed": false
   },
   "outputs": [
    {
     "data": {
      "text/plain": [
       "([mean: -157681103.52844, std: 41380805.41556, params: {'subsample': 0.6},\n",
       "  mean: -159785483.12185, std: 42237533.41781, params: {'subsample': 0.65},\n",
       "  mean: -158176037.68352, std: 40235975.43132, params: {'subsample': 0.7},\n",
       "  mean: -159826685.51921, std: 43018527.74637, params: {'subsample': 0.75},\n",
       "  mean: -160246851.68157, std: 41751724.46275, params: {'subsample': 0.8},\n",
       "  mean: -160697598.64198, std: 43847135.60275, params: {'subsample': 0.85},\n",
       "  mean: -159705100.20474, std: 41842503.44279, params: {'subsample': 0.9},\n",
       "  mean: -159674016.66015, std: 44021871.90794, params: {'subsample': 0.95},\n",
       "  mean: -161209599.74185, std: 45857637.08946, params: {'subsample': 1.0}],\n",
       " {'subsample': 0.6},\n",
       " -157681103.52844292)"
      ]
     },
     "execution_count": 34,
     "metadata": {},
     "output_type": "execute_result"
    }
   ],
   "source": [
    "param_test5 = {'subsample':[0.6,0.65,0.7,0.75,0.8,0.85,0.9,0.95,1.0]}\n",
    "gsearch5 = GridSearchCV(estimator = ensemble.GradientBoostingRegressor(learning_rate = 0.05, n_estimators = 140, max_depth = 3, min_samples_split = 150, min_samples_leaf = 2, subsample = 0.8, random_state = 10, max_features = 13),\n",
    "param_grid = param_test5, scoring='neg_mean_squared_error', n_jobs = 4, iid = False, cv = 5)\n",
    "gsearch5.fit(X,y)\n",
    "gsearch5.grid_scores_, gsearch5.best_params_, gsearch5.best_score_"
   ]
  },
  {
   "cell_type": "markdown",
   "metadata": {},
   "source": [
    "The optimal subsample is 0.6. Now we have the final tuning parameters down as the mean squared error for the cross validation set has improved. With more training samples and features, I think the algorithm can be improved and will do a better job of minimizing mean squared error. "
   ]
  },
  {
   "cell_type": "code",
   "execution_count": 35,
   "metadata": {
    "collapsed": false
   },
   "outputs": [
    {
     "name": "stdout",
     "output_type": "stream",
     "text": [
      "\n",
      "Model Report\n",
      "Mean Squared Error : 1.216e+08\n",
      "r2 Score: 0.987294\n",
      "CV Score : Mean - 0.9643446 | Std - 0.02975109 | Min - 0.9101574 | Max - 0.9880551\n",
      "CV Score MSE : Mean - -1.579599e+08 | Std - 4.119444e+07 | Min - -2.243636e+08 | Max - -1.118822e+08\n"
     ]
    },
    {
     "data": {
      "image/png": "[encoded data removed]",
      "text/plain": [
       "<matplotlib.figure.Figure at 0xc764cf8>"
      ]
     },
     "metadata": {},
     "output_type": "display_data"
    }
   ],
   "source": [
    "gb_tuned_1 = ensemble.GradientBoostingRegressor(learning_rate = 0.05, n_estimators = 140, max_depth = 3, min_samples_split = 160, min_samples_leaf = 2, subsample = 0.6, random_state = 10, max_features = 'auto')\n",
    "modelfit(gb_tuned_1, X, y)"
   ]
  },
  {
   "cell_type": "markdown",
   "metadata": {},
   "source": [
    "I can see that the CV score improves, where fine tuning the parameters made a small difference. The listing price dominates the amount of importance for predicting final sale price of a house. The zip codes are not having that much of an effect, perhaps because the areas that are being compared are pretty similar in geography. "
   ]
  },
  {
   "cell_type": "code",
   "execution_count": 36,
   "metadata": {
    "collapsed": true
   },
   "outputs": [],
   "source": [
    "#Gradient Boosting \n",
    "params = {\n",
    "         'n_estimators': 140, \n",
    "         'max_depth': 3, \n",
    "         'min_samples_split': 2,\n",
    "         'learning_rate': 0.05,\n",
    "         'min_samples_split': 160,\n",
    "         'subsample': 0.6,\n",
    "         'random_state': 10, \n",
    "         'max_features': 13\n",
    "         }\n",
    "\n",
    "gradBoost = ensemble.GradientBoostingRegressor(**params)\n",
    "gradBoost.fit(X, y)\n",
    "#Output what features are the most important\n",
    "features = pd.DataFrame()\n",
    "features['feature'] = data.columns\n",
    "features['importance--gradBoost'] = gradBoost.feature_importances_\n",
    "\n",
    "    \n",
    "Y_grad_pred = gradBoost.predict(predictions).astype(int)\n",
    "gradOut = Y_grad_pred\n",
    "df_grad = pd.DataFrame()\n",
    "df_grad['Listing Price'] = origList_Price\n",
    "df_grad['Predicted Selling Price'] = gradOut\n",
    "df_grad['Address'] = orig_address\n",
    "df_grad[['Address', 'Listing Price','Predicted Selling Price']].to_csv('C:/Users/Damanjit/Documents/HousingPrediction/gradientBoostedPredictions.csv',index=False)"
   ]
  },
  {
   "cell_type": "code",
   "execution_count": 37,
   "metadata": {
    "collapsed": false
   },
   "outputs": [
    {
     "data": {
      "text/html": [
       "<div>\n",
       "<table border=\"1\" class=\"dataframe\">\n",
       "  <thead>\n",
       "    <tr style=\"text-align: right;\">\n",
       "      <th></th>\n",
       "      <th>Address</th>\n",
       "      <th>Listing Price</th>\n",
       "      <th>Predicted Selling Price</th>\n",
       "    </tr>\n",
       "  </thead>\n",
       "  <tbody>\n",
       "    <tr>\n",
       "      <th>0</th>\n",
       "      <td>309 Leland Ct, Lodi, CA 95242-3328</td>\n",
       "      <td>549000</td>\n",
       "      <td>522588</td>\n",
       "    </tr>\n",
       "    <tr>\n",
       "      <th>1</th>\n",
       "      <td>520 N Lower Sacramento Rd, Lodi, CA 95242-2115</td>\n",
       "      <td>739950</td>\n",
       "      <td>720373</td>\n",
       "    </tr>\n",
       "    <tr>\n",
       "      <th>2</th>\n",
       "      <td>2581 Central Park Dr, Lodi, CA 95242-3232</td>\n",
       "      <td>367000</td>\n",
       "      <td>359938</td>\n",
       "    </tr>\n",
       "    <tr>\n",
       "      <th>3</th>\n",
       "      <td>2407 Corbin Lane, Lodi, CA 95242</td>\n",
       "      <td>318000</td>\n",
       "      <td>309152</td>\n",
       "    </tr>\n",
       "    <tr>\n",
       "      <th>4</th>\n",
       "      <td>647 El Capitan, Lodi, CA 95242</td>\n",
       "      <td>319900</td>\n",
       "      <td>312235</td>\n",
       "    </tr>\n",
       "    <tr>\n",
       "      <th>5</th>\n",
       "      <td>717 Peach St, Lodi, CA 95242-3638</td>\n",
       "      <td>219000</td>\n",
       "      <td>212098</td>\n",
       "    </tr>\n",
       "    <tr>\n",
       "      <th>6</th>\n",
       "      <td>721 Rutledge Dr, Lodi, CA 95242</td>\n",
       "      <td>315000</td>\n",
       "      <td>294304</td>\n",
       "    </tr>\n",
       "    <tr>\n",
       "      <th>7</th>\n",
       "      <td>1618 S Lower Sacramento Rd, Lodi, CA 95242-9571</td>\n",
       "      <td>949000</td>\n",
       "      <td>743558</td>\n",
       "    </tr>\n",
       "    <tr>\n",
       "      <th>8</th>\n",
       "      <td>870 Rutledge Dr., Lodi, CA 95242</td>\n",
       "      <td>185000</td>\n",
       "      <td>182444</td>\n",
       "    </tr>\n",
       "    <tr>\n",
       "      <th>9</th>\n",
       "      <td>910 Tehama Dr, Lodi, CA 95242-9553</td>\n",
       "      <td>595000</td>\n",
       "      <td>558818</td>\n",
       "    </tr>\n",
       "    <tr>\n",
       "      <th>10</th>\n",
       "      <td>2069 Incline, Lodi, CA 95242</td>\n",
       "      <td>528000</td>\n",
       "      <td>506792</td>\n",
       "    </tr>\n",
       "    <tr>\n",
       "      <th>11</th>\n",
       "      <td>2570 Legacy Way, Lodi, CA 95242-4821</td>\n",
       "      <td>515000</td>\n",
       "      <td>493556</td>\n",
       "    </tr>\n",
       "    <tr>\n",
       "      <th>12</th>\n",
       "      <td>2351 Saint Anton Dr, Lodi, CA 95242-9100</td>\n",
       "      <td>699000</td>\n",
       "      <td>657591</td>\n",
       "    </tr>\n",
       "    <tr>\n",
       "      <th>13</th>\n",
       "      <td>2530 Legacy Way, Lodi, CA 95242</td>\n",
       "      <td>512900</td>\n",
       "      <td>494757</td>\n",
       "    </tr>\n",
       "    <tr>\n",
       "      <th>14</th>\n",
       "      <td>303 Rainier Dr, Lodi, CA 95242-2627</td>\n",
       "      <td>335000</td>\n",
       "      <td>330126</td>\n",
       "    </tr>\n",
       "    <tr>\n",
       "      <th>15</th>\n",
       "      <td>1833 W Kettleman Ln, Lodi, CA 95242-4216</td>\n",
       "      <td>1150000</td>\n",
       "      <td>764714</td>\n",
       "    </tr>\n",
       "    <tr>\n",
       "      <th>16</th>\n",
       "      <td>1363 Lakeshore Dr, Lodi, CA 95242-3937</td>\n",
       "      <td>575000</td>\n",
       "      <td>564563</td>\n",
       "    </tr>\n",
       "    <tr>\n",
       "      <th>17</th>\n",
       "      <td>1123 Dover Dr, Lodi, CA 95242-3814</td>\n",
       "      <td>309500</td>\n",
       "      <td>301041</td>\n",
       "    </tr>\n",
       "    <tr>\n",
       "      <th>18</th>\n",
       "      <td>2025 Mammoth Way, Lodi, CA 95242</td>\n",
       "      <td>728000</td>\n",
       "      <td>690736</td>\n",
       "    </tr>\n",
       "    <tr>\n",
       "      <th>19</th>\n",
       "      <td>2070 Katnich Ln, Lodi, CA 95242-4805</td>\n",
       "      <td>499000</td>\n",
       "      <td>481796</td>\n",
       "    </tr>\n",
       "    <tr>\n",
       "      <th>20</th>\n",
       "      <td>220 S Mills Ave, Lodi, CA 95242-3140</td>\n",
       "      <td>274000</td>\n",
       "      <td>265611</td>\n",
       "    </tr>\n",
       "    <tr>\n",
       "      <th>21</th>\n",
       "      <td>900 Evert Ct, Lodi, CA 95242-3704</td>\n",
       "      <td>500000</td>\n",
       "      <td>485429</td>\n",
       "    </tr>\n",
       "    <tr>\n",
       "      <th>22</th>\n",
       "      <td>1479 Rumi Ct, Lodi, CA 95242-4213</td>\n",
       "      <td>475000</td>\n",
       "      <td>461841</td>\n",
       "    </tr>\n",
       "    <tr>\n",
       "      <th>23</th>\n",
       "      <td>1924 S Mills Ave #1, Lodi, CA 95242-4477</td>\n",
       "      <td>199000</td>\n",
       "      <td>192871</td>\n",
       "    </tr>\n",
       "    <tr>\n",
       "      <th>24</th>\n",
       "      <td>1701 Holly Dr, Lodi, CA 95242-2430</td>\n",
       "      <td>307000</td>\n",
       "      <td>302059</td>\n",
       "    </tr>\n",
       "  </tbody>\n",
       "</table>\n",
       "</div>"
      ],
      "text/plain": [
       "                                            Address  Listing Price  \\\n",
       "0                309 Leland Ct, Lodi, CA 95242-3328         549000   \n",
       "1    520 N Lower Sacramento Rd, Lodi, CA 95242-2115         739950   \n",
       "2         2581 Central Park Dr, Lodi, CA 95242-3232         367000   \n",
       "3                  2407 Corbin Lane, Lodi, CA 95242         318000   \n",
       "4                    647 El Capitan, Lodi, CA 95242         319900   \n",
       "5                 717 Peach St, Lodi, CA 95242-3638         219000   \n",
       "6                   721 Rutledge Dr, Lodi, CA 95242         315000   \n",
       "7   1618 S Lower Sacramento Rd, Lodi, CA 95242-9571         949000   \n",
       "8                  870 Rutledge Dr., Lodi, CA 95242         185000   \n",
       "9                910 Tehama Dr, Lodi, CA 95242-9553         595000   \n",
       "10                     2069 Incline, Lodi, CA 95242         528000   \n",
       "11             2570 Legacy Way, Lodi, CA 95242-4821         515000   \n",
       "12         2351 Saint Anton Dr, Lodi, CA 95242-9100         699000   \n",
       "13                  2530 Legacy Way, Lodi, CA 95242         512900   \n",
       "14              303 Rainier Dr, Lodi, CA 95242-2627         335000   \n",
       "15         1833 W Kettleman Ln, Lodi, CA 95242-4216        1150000   \n",
       "16           1363 Lakeshore Dr, Lodi, CA 95242-3937         575000   \n",
       "17               1123 Dover Dr, Lodi, CA 95242-3814         309500   \n",
       "18                 2025 Mammoth Way, Lodi, CA 95242         728000   \n",
       "19             2070 Katnich Ln, Lodi, CA 95242-4805         499000   \n",
       "20             220 S Mills Ave, Lodi, CA 95242-3140         274000   \n",
       "21                900 Evert Ct, Lodi, CA 95242-3704         500000   \n",
       "22                1479 Rumi Ct, Lodi, CA 95242-4213         475000   \n",
       "23         1924 S Mills Ave #1, Lodi, CA 95242-4477         199000   \n",
       "24               1701 Holly Dr, Lodi, CA 95242-2430         307000   \n",
       "\n",
       "    Predicted Selling Price  \n",
       "0                    522588  \n",
       "1                    720373  \n",
       "2                    359938  \n",
       "3                    309152  \n",
       "4                    312235  \n",
       "5                    212098  \n",
       "6                    294304  \n",
       "7                    743558  \n",
       "8                    182444  \n",
       "9                    558818  \n",
       "10                   506792  \n",
       "11                   493556  \n",
       "12                   657591  \n",
       "13                   494757  \n",
       "14                   330126  \n",
       "15                   764714  \n",
       "16                   564563  \n",
       "17                   301041  \n",
       "18                   690736  \n",
       "19                   481796  \n",
       "20                   265611  \n",
       "21                   485429  \n",
       "22                   461841  \n",
       "23                   192871  \n",
       "24                   302059  "
      ]
     },
     "execution_count": 37,
     "metadata": {},
     "output_type": "execute_result"
    }
   ],
   "source": [
    "grad_predictions = pd.read_csv('C:/Users/Damanjit/Documents/HousingPrediction/gradientBoostedPredictions.csv')\n",
    "grad_predictions.head(25)\n",
    "                               \n"
   ]
  },
  {
   "cell_type": "markdown",
   "metadata": {},
   "source": [
    "Let's dive into other types of algorithm, starting with adaBoost regression since the format is already set up to fine tune the paramaters. "
   ]
  },
  {
   "cell_type": "code",
   "execution_count": 38,
   "metadata": {
    "collapsed": false
   },
   "outputs": [
    {
     "name": "stdout",
     "output_type": "stream",
     "text": [
      "\n",
      "Model Report\n",
      "Mean Squared Error : 2.761e+05\n",
      "r2 Score: 0.999971\n",
      "CV Score : Mean - 0.9102613 | Std - 0.1203928 | Min - 0.6718132 | Max - 0.9869784\n",
      "CV Score MSE : Mean - -2.958481e+08 | Std - 1.951034e+08 | Min - -6.744285e+08 | Max - -1.219673e+08\n"
     ]
    },
    {
     "data": {
      "image/png": "[encoded data removed]",
      "text/plain": [
       "<matplotlib.figure.Figure at 0xc77fbe0>"
      ]
     },
     "metadata": {},
     "output_type": "display_data"
    }
   ],
   "source": [
    "from sklearn.ensemble import AdaBoostRegressor\n",
    "DTR0 = DecisionTreeRegressor(max_features = 'auto', random_state = 10)\n",
    "ada = AdaBoostRegressor(base_estimator = DTR0, random_state = 10)\n",
    "modelfit(ada, X, y)"
   ]
  },
  {
   "cell_type": "code",
   "execution_count": 39,
   "metadata": {
    "collapsed": false
   },
   "outputs": [
    {
     "data": {
      "text/plain": [
       "GridSearchCV(cv=5, error_score='raise',\n",
       "       estimator=AdaBoostRegressor(base_estimator=DecisionTreeRegressor(criterion='mse', max_depth=None, max_features='auto',\n",
       "           max_leaf_nodes=None, min_impurity_split=1e-07,\n",
       "           min_samples_leaf=1, min_samples_split=2,\n",
       "           min_weight_fraction_leaf=0.0, presort=False, random_state=10,\n",
       "           splitter='best'),\n",
       "         learning_rate=0.05, loss='linear', n_estimators=50,\n",
       "         random_state=10),\n",
       "       fit_params={}, iid=False, n_jobs=4,\n",
       "       param_grid={'n_estimators': [80, 100, 120, 140, 160, 180, 200, 220, 240]},\n",
       "       pre_dispatch='2*n_jobs', refit=True,\n",
       "       scoring='neg_mean_squared_error', verbose=0)"
      ]
     },
     "execution_count": 39,
     "metadata": {},
     "output_type": "execute_result"
    }
   ],
   "source": [
    "param_test6 = {'n_estimators': range(80, 241, 20)}\n",
    "DTR1 = DecisionTreeRegressor(max_features = 'auto',random_state = 10)\n",
    "gsearch6 = GridSearchCV(estimator = ensemble.AdaBoostRegressor(base_estimator = DTR1, learning_rate = 0.05, random_state = 10), \n",
    "param_grid = param_test6, scoring='neg_mean_squared_error', n_jobs = 4, iid = False, cv = 5)\n",
    "gsearch6.fit(X,y)"
   ]
  },
  {
   "cell_type": "code",
   "execution_count": 40,
   "metadata": {
    "collapsed": false
   },
   "outputs": [
    {
     "data": {
      "text/plain": [
       "([mean: -286254510.59227, std: 180530401.37151, params: {'n_estimators': 80},\n",
       "  mean: -287019420.63851, std: 180459285.04384, params: {'n_estimators': 100},\n",
       "  mean: -285996845.55195, std: 179148224.73978, params: {'n_estimators': 120},\n",
       "  mean: -287203788.39106, std: 183055495.66118, params: {'n_estimators': 140},\n",
       "  mean: -285950586.23610, std: 180637942.14810, params: {'n_estimators': 160},\n",
       "  mean: -286832380.77373, std: 180453582.16814, params: {'n_estimators': 180},\n",
       "  mean: -286304692.53799, std: 178269876.00258, params: {'n_estimators': 200},\n",
       "  mean: -286707719.33142, std: 177748395.56725, params: {'n_estimators': 220},\n",
       "  mean: -287775137.43937, std: 178349144.56385, params: {'n_estimators': 240}],\n",
       " {'n_estimators': 160},\n",
       " -285950586.23610413)"
      ]
     },
     "execution_count": 40,
     "metadata": {},
     "output_type": "execute_result"
    }
   ],
   "source": [
    "gsearch6.grid_scores_, gsearch6.best_params_, gsearch6.best_score_"
   ]
  },
  {
   "cell_type": "code",
   "execution_count": 41,
   "metadata": {
    "collapsed": false
   },
   "outputs": [
    {
     "name": "stdout",
     "output_type": "stream",
     "text": [
      "\n",
      "Model Report\n",
      "Mean Squared Error : 1771\n",
      "r2 Score: 1.000000\n",
      "CV Score : Mean - 0.9149255 | Std - 0.1127285 | Min - 0.6916049 | Max - 0.9869025\n",
      "CV Score MSE : Mean - -2.859506e+08 | Std - 1.806379e+08 | Min - -6.337565e+08 | Max - -1.226777e+08\n"
     ]
    },
    {
     "data": {
      "image/png": "[encoded data removed]",
      "text/plain": [
       "<matplotlib.figure.Figure at 0x10699908>"
      ]
     },
     "metadata": {},
     "output_type": "display_data"
    }
   ],
   "source": [
    "DTR1 = DecisionTreeRegressor(max_features = 'auto', random_state = 10)\n",
    "ada_tuned1 = ensemble.AdaBoostRegressor(base_estimator = DTR1, learning_rate = 0.05, random_state = 10, n_estimators = 160) \n",
    "modelfit(ada_tuned1, X, y)"
   ]
  },
  {
   "cell_type": "markdown",
   "metadata": {},
   "source": [
    "With the adaBoost regression algorithm, the weak learners are not being boosted, so the listing price is being solely responsible for predicting the final sale price. I will not rely on this algorithm for prediction, but it was still neat on how this would behave. Now I will try to predict using XGBoost Regression (regularized boosting), which is an advanced implementation of gradient boosting. "
   ]
  },
  {
   "cell_type": "code",
   "execution_count": 42,
   "metadata": {
    "collapsed": false
   },
   "outputs": [],
   "source": [
    "import xgboost as xgb\n",
    "from xgboost.sklearn import XGBRegressor\n",
    "\n",
    "#create a similar model to evaluate how well the XGBoost algorithm is performing\n",
    "\n",
    "def modelfitXGB(alg, X, y, useTrainCV = True, cv_folds = 5, early_stopping_rounds = 50):\n",
    "    \n",
    "    if useTrainCV:\n",
    "        xgb_param = alg.get_xgb_params()\n",
    "        xgtrain = xgb.DMatrix(X, label = y)\n",
    "        cvresult = xgb.cv(xgb_param, xgtrain, num_boost_round=alg.get_params()['n_estimators'], nfold = cv_folds,\n",
    "            metrics='rmse', early_stopping_rounds = early_stopping_rounds, verbose_eval = 30)\n",
    "        alg.set_params(n_estimators = cvresult.shape[0])\n",
    "\n",
    "    #Fit the algorithm on the data\n",
    "    alg.fit(X, y, eval_metric = 'rmse')\n",
    "        \n",
    "    #Predict training set:\n",
    "    train_predictions = alg.predict(X)\n",
    "        \n",
    "    #Print model report:\n",
    "    print \"\\nModel Report\"\n",
    "    print \"Mean Squared Error : %.4g\" % metrics.mean_squared_error(y, train_predictions)\n",
    "    print \"r2 Score: %f\" % metrics.r2_score(y, train_predictions)\n",
    "                    \n",
    "    feat_imp = pd.Series(alg.booster().get_fscore()).sort_values(ascending=False)\n",
    "    feat_imp.plot(kind = 'bar', title = 'Feature Importances')\n",
    "    pl.ylabel('Feature Importance Score')"
   ]
  },
  {
   "cell_type": "code",
   "execution_count": 43,
   "metadata": {
    "collapsed": false
   },
   "outputs": [
    {
     "name": "stdout",
     "output_type": "stream",
     "text": [
      "[0]\ttrain-rmse:228166+418.286\ttest-rmse:228142+1756.64\n",
      "[30]\ttrain-rmse:14927.3+70.7732\ttest-rmse:16316.9+1243.95\n",
      "[60]\ttrain-rmse:9871.73+92.5663\ttest-rmse:12193.7+1065.04\n",
      "[90]\ttrain-rmse:9282.01+124.802\ttest-rmse:12119.9+1005.17\n",
      "[120]\ttrain-rmse:8786.09+115.93\ttest-rmse:12150.2+982.525\n",
      "\n",
      "Model Report\n",
      "Mean Squared Error : 9.426e+07\n",
      "r2 Score: 0.990150\n"
     ]
    },
    {
     "data": {
      "image/png": "[encoded data removed]",
      "text/plain": [
       "<matplotlib.figure.Figure at 0x98cfc88>"
      ]
     },
     "metadata": {},
     "output_type": "display_data"
    }
   ],
   "source": [
    "xgb1 = XGBRegressor(\n",
    " learning_rate = 0.1,\n",
    " n_estimators = 150,\n",
    " max_depth = 5,\n",
    " min_child_weight = 1,\n",
    " gamma = 0,\n",
    " subsample = 0.8,\n",
    " colsample_bytree = 0.8,\n",
    " objective = 'reg:linear',\n",
    " nthread = 4,\n",
    " scale_pos_weight = 1,\n",
    " seed = 10)\n",
    "modelfitXGB(xgb1, X, y)"
   ]
  },
  {
   "cell_type": "raw",
   "metadata": {},
   "source": [
    "From this I can see that XGBoost is very fast, and does a remarkable job in using each feature. The mean squared error from this can be found by the RMSE and squaring it. For example Train_RMSE = 8611, so Train_MSE = (9412^2) = 8.88 * 10^7. While the Test_RMSE = 12122.7 so Test_MSE = 1.469 * 10^8, which is still smaller than the CV score for mean squared error for the gradient boosting regression algorithm. The optimal n_estimators is said to be 83, so I will input that number when trying to find the best parameters. The features are also boosted, each having an importance in determing the final selling price for the various houses on the market. Listing price is still the most important feature, but the other features can be seen to have a role in the final prediction. Now, I will fine tune the paramaters and see if I can minimize the mean squared error further. "
   ]
  },
  {
   "cell_type": "code",
   "execution_count": 44,
   "metadata": {
    "collapsed": false
   },
   "outputs": [
    {
     "data": {
      "text/plain": [
       "([mean: -170232841.94437, std: 47958770.70837, params: {'max_depth': 3, 'min_child_weight': 1},\n",
       "  mean: -168520707.35451, std: 43776066.13128, params: {'max_depth': 3, 'min_child_weight': 2},\n",
       "  mean: -171834069.83974, std: 50972819.68816, params: {'max_depth': 3, 'min_child_weight': 3},\n",
       "  mean: -172643172.56422, std: 52951195.44597, params: {'max_depth': 3, 'min_child_weight': 4},\n",
       "  mean: -173981716.16851, std: 56781434.27854, params: {'max_depth': 3, 'min_child_weight': 5},\n",
       "  mean: -182297948.79668, std: 45553066.53571, params: {'max_depth': 4, 'min_child_weight': 1},\n",
       "  mean: -179259105.29814, std: 41206195.68525, params: {'max_depth': 4, 'min_child_weight': 2},\n",
       "  mean: -180723403.08115, std: 47749835.13330, params: {'max_depth': 4, 'min_child_weight': 3},\n",
       "  mean: -182293711.33051, std: 45957067.72188, params: {'max_depth': 4, 'min_child_weight': 4},\n",
       "  mean: -183189356.60247, std: 48465075.47963, params: {'max_depth': 4, 'min_child_weight': 5},\n",
       "  mean: -209207701.53548, std: 62830075.33799, params: {'max_depth': 5, 'min_child_weight': 1},\n",
       "  mean: -200087494.27854, std: 51619260.90760, params: {'max_depth': 5, 'min_child_weight': 2},\n",
       "  mean: -201021187.44167, std: 51508839.78397, params: {'max_depth': 5, 'min_child_weight': 3},\n",
       "  mean: -198100437.16050, std: 49738334.56734, params: {'max_depth': 5, 'min_child_weight': 4},\n",
       "  mean: -200891126.84472, std: 52968218.48945, params: {'max_depth': 5, 'min_child_weight': 5},\n",
       "  mean: -221160815.70081, std: 70219774.97618, params: {'max_depth': 6, 'min_child_weight': 1},\n",
       "  mean: -207959132.50936, std: 49939603.87616, params: {'max_depth': 6, 'min_child_weight': 2},\n",
       "  mean: -204266575.41101, std: 51836636.66004, params: {'max_depth': 6, 'min_child_weight': 3},\n",
       "  mean: -202734619.68055, std: 50204875.94364, params: {'max_depth': 6, 'min_child_weight': 4},\n",
       "  mean: -207179454.99634, std: 55615832.40482, params: {'max_depth': 6, 'min_child_weight': 5},\n",
       "  mean: -229768548.75918, std: 70769428.72716, params: {'max_depth': 7, 'min_child_weight': 1},\n",
       "  mean: -216852533.59979, std: 56483086.72271, params: {'max_depth': 7, 'min_child_weight': 2},\n",
       "  mean: -219232799.82840, std: 60151176.91447, params: {'max_depth': 7, 'min_child_weight': 3},\n",
       "  mean: -216814644.90409, std: 54674080.59151, params: {'max_depth': 7, 'min_child_weight': 4},\n",
       "  mean: -212126095.11744, std: 57402502.41358, params: {'max_depth': 7, 'min_child_weight': 5},\n",
       "  mean: -230269843.72716, std: 77513564.02174, params: {'max_depth': 8, 'min_child_weight': 1},\n",
       "  mean: -217566206.64803, std: 57812583.36203, params: {'max_depth': 8, 'min_child_weight': 2},\n",
       "  mean: -217538497.10623, std: 53127073.33056, params: {'max_depth': 8, 'min_child_weight': 3},\n",
       "  mean: -216572065.09213, std: 54459181.54694, params: {'max_depth': 8, 'min_child_weight': 4},\n",
       "  mean: -215435252.49024, std: 56332350.74971, params: {'max_depth': 8, 'min_child_weight': 5},\n",
       "  mean: -232041540.16500, std: 73858596.44136, params: {'max_depth': 9, 'min_child_weight': 1},\n",
       "  mean: -223685923.69122, std: 62053229.96138, params: {'max_depth': 9, 'min_child_weight': 2},\n",
       "  mean: -219762379.48806, std: 56830430.87734, params: {'max_depth': 9, 'min_child_weight': 3},\n",
       "  mean: -221100254.69010, std: 55127120.56921, params: {'max_depth': 9, 'min_child_weight': 4},\n",
       "  mean: -213406447.58393, std: 54572880.35527, params: {'max_depth': 9, 'min_child_weight': 5}],\n",
       " {'max_depth': 3, 'min_child_weight': 2},\n",
       " -168520707.35451284)"
      ]
     },
     "execution_count": 44,
     "metadata": {},
     "output_type": "execute_result"
    }
   ],
   "source": [
    "param_test7 = {\n",
    " 'max_depth':range(3,10,1),\n",
    " 'min_child_weight':range(1,6,1)\n",
    "}\n",
    "gsearch7 = GridSearchCV(estimator = XGBRegressor(learning_rate = 0.1, n_estimators = 83, max_depth = 5,\n",
    " min_child_weight = 1, gamma = 0, subsample = 0.8, colsample_bytree = 0.8,\n",
    " objective = 'reg:linear', nthread = 4, scale_pos_weight = 1, seed = 10), \n",
    " param_grid = param_test7, scoring='neg_mean_squared_error',n_jobs = 4,iid = False, cv = 5)\n",
    "gsearch7.fit(X, y)\n",
    "gsearch7.grid_scores_, gsearch7.best_params_, gsearch7.best_score_"
   ]
  },
  {
   "cell_type": "code",
   "execution_count": 45,
   "metadata": {
    "collapsed": false
   },
   "outputs": [
    {
     "data": {
      "text/plain": [
       "([mean: -168520707.35451, std: 43776066.13128, params: {'gamma': 0.0},\n",
       "  mean: -168520707.35451, std: 43776066.13128, params: {'gamma': 0.1},\n",
       "  mean: -168520707.35451, std: 43776066.13128, params: {'gamma': 0.2},\n",
       "  mean: -168520707.35451, std: 43776066.13128, params: {'gamma': 0.3},\n",
       "  mean: -168520707.35451, std: 43776066.13128, params: {'gamma': 0.4}],\n",
       " {'gamma': 0.0},\n",
       " -168520707.35451284)"
      ]
     },
     "execution_count": 45,
     "metadata": {},
     "output_type": "execute_result"
    }
   ],
   "source": [
    "param_test8 = {\n",
    " 'gamma':[i/10.0 for i in range(0,5)]\n",
    "}\n",
    "gsearch8 = GridSearchCV(estimator = XGBRegressor( learning_rate = 0.1, n_estimators = 83, max_depth = 3,\n",
    " min_child_weight = 2, gamma = 0, subsample = 0.8, colsample_bytree = 0.8,\n",
    " objective = 'reg:linear', nthread = 4, scale_pos_weight = 1,seed = 10), \n",
    " param_grid = param_test8, scoring='neg_mean_squared_error',n_jobs = 4,iid = False, cv = 5)\n",
    "gsearch8.fit(X, y)\n",
    "gsearch8.grid_scores_, gsearch8.best_params_, gsearch8.best_score_"
   ]
  },
  {
   "cell_type": "markdown",
   "metadata": {},
   "source": [
    "From what I ran so far, it shows that the optimal values for the algorithm so far are the following: max_depth = 3, min_child_weight = 2, and gamma = 0.0. But gamma really does not make a difference. Let's fit these newly found paramaters to the model and see if the CV score has improved. "
   ]
  },
  {
   "cell_type": "code",
   "execution_count": 46,
   "metadata": {
    "collapsed": false
   },
   "outputs": [
    {
     "name": "stdout",
     "output_type": "stream",
     "text": [
      "[0]\ttrain-rmse:228219+416.773\ttest-rmse:228195+1761.3\n",
      "[30]\ttrain-rmse:16237.9+211.103\ttest-rmse:16942.5+1549.65\n",
      "[60]\ttrain-rmse:11326.1+119.01\ttest-rmse:12391+1097.69\n",
      "[90]\ttrain-rmse:10875.8+97.289\ttest-rmse:12191.3+1032.18\n",
      "[120]\ttrain-rmse:10580.8+97.7629\ttest-rmse:12116.3+1054.25\n",
      "\n",
      "Model Report\n",
      "Mean Squared Error : 1.172e+08\n",
      "r2 Score: 0.987747\n"
     ]
    },
    {
     "data": {
      "image/png": "[encoded data removed]",
      "text/plain": [
       "<matplotlib.figure.Figure at 0x9bcf3c8>"
      ]
     },
     "metadata": {},
     "output_type": "display_data"
    }
   ],
   "source": [
    "xgb2 = XGBRegressor(\n",
    " learning_rate =0.1,\n",
    " n_estimators = 150,\n",
    " max_depth = 3,\n",
    " min_child_weight = 2,\n",
    " gamma = 0,\n",
    " subsample = 0.8,\n",
    " colsample_bytree = 0.8,\n",
    " objective = 'reg:linear',\n",
    " nthread = 4,\n",
    " scale_pos_weight = 1,\n",
    " seed = 10)\n",
    "modelfitXGB(xgb2, X, y)"
   ]
  },
  {
   "cell_type": "markdown",
   "metadata": {},
   "source": [
    "I can see tht the CV score has improved quite a bit. I will continue to fine tune the other parameters to optimize it for the data that I have.  "
   ]
  },
  {
   "cell_type": "code",
   "execution_count": 47,
   "metadata": {
    "collapsed": false
   },
   "outputs": [
    {
     "data": {
      "text/plain": [
       "([mean: -181657806.19151, std: 42333341.00661, params: {'subsample': 0.6, 'colsample_bytree': 0.6},\n",
       "  mean: -176669458.57689, std: 40815550.05227, params: {'subsample': 0.7, 'colsample_bytree': 0.6},\n",
       "  mean: -189256766.96947, std: 42581325.10512, params: {'subsample': 0.8, 'colsample_bytree': 0.6},\n",
       "  mean: -189007426.22266, std: 46063591.24670, params: {'subsample': 0.9, 'colsample_bytree': 0.6},\n",
       "  mean: -176584237.72553, std: 41439482.91813, params: {'subsample': 0.6, 'colsample_bytree': 0.7},\n",
       "  mean: -174704764.22095, std: 39706500.67652, params: {'subsample': 0.7, 'colsample_bytree': 0.7},\n",
       "  mean: -177344564.68695, std: 41636903.15781, params: {'subsample': 0.8, 'colsample_bytree': 0.7},\n",
       "  mean: -176135180.32936, std: 42225401.48320, params: {'subsample': 0.9, 'colsample_bytree': 0.7},\n",
       "  mean: -172068377.41448, std: 43113630.29740, params: {'subsample': 0.6, 'colsample_bytree': 0.8},\n",
       "  mean: -170214352.25044, std: 41853834.09842, params: {'subsample': 0.7, 'colsample_bytree': 0.8},\n",
       "  mean: -169451416.12767, std: 42589012.98845, params: {'subsample': 0.8, 'colsample_bytree': 0.8},\n",
       "  mean: -170682601.85333, std: 45834560.22246, params: {'subsample': 0.9, 'colsample_bytree': 0.8},\n",
       "  mean: -168120866.89632, std: 42860182.96811, params: {'subsample': 0.6, 'colsample_bytree': 0.9},\n",
       "  mean: -168711122.68542, std: 41653501.82448, params: {'subsample': 0.7, 'colsample_bytree': 0.9},\n",
       "  mean: -173326734.95414, std: 43632008.88643, params: {'subsample': 0.8, 'colsample_bytree': 0.9},\n",
       "  mean: -171559133.55136, std: 45309350.75007, params: {'subsample': 0.9, 'colsample_bytree': 0.9}],\n",
       " {'colsample_bytree': 0.9, 'subsample': 0.6},\n",
       " -168120866.89631978)"
      ]
     },
     "execution_count": 47,
     "metadata": {},
     "output_type": "execute_result"
    }
   ],
   "source": [
    "param_test9 = {\n",
    " 'subsample':[i/10.0 for i in range(6,10)],\n",
    " 'colsample_bytree':[i/10.0 for i in range(6,10)]\n",
    "}\n",
    "gsearch9 = GridSearchCV(estimator = XGBRegressor( learning_rate = 0.1, n_estimators = 133, max_depth = 3,\n",
    " min_child_weight = 2, gamma = 0, subsample = 0.8, colsample_bytree = 0.8,\n",
    " objective = 'reg:linear', nthread = 4, scale_pos_weight = 1, seed = 10), \n",
    " param_grid = param_test9, scoring='neg_mean_squared_error', n_jobs = 4, iid = False, cv = 5)\n",
    "gsearch9.fit(X, y)\n",
    "gsearch9.grid_scores_, gsearch9.best_params_, gsearch9.best_score_"
   ]
  },
  {
   "cell_type": "markdown",
   "metadata": {},
   "source": [
    "The optimal value for colsample_bytree is 0.9 and for the subsample it is 0.6. Now, I will try by intervals of 0.05 around these values. "
   ]
  },
  {
   "cell_type": "code",
   "execution_count": 48,
   "metadata": {
    "collapsed": false
   },
   "outputs": [
    {
     "data": {
      "text/plain": [
       "([mean: -169567245.32737, std: 41273605.91692, params: {'subsample': 0.55, 'colsample_bytree': 0.85},\n",
       "  mean: -168120866.89632, std: 42860182.96811, params: {'subsample': 0.6, 'colsample_bytree': 0.85},\n",
       "  mean: -170776280.35174, std: 41397555.74725, params: {'subsample': 0.65, 'colsample_bytree': 0.85},\n",
       "  mean: -168711122.68542, std: 41653501.82448, params: {'subsample': 0.7, 'colsample_bytree': 0.85},\n",
       "  mean: -167619156.87890, std: 41735254.74906, params: {'subsample': 0.75, 'colsample_bytree': 0.85},\n",
       "  mean: -169567245.32737, std: 41273605.91692, params: {'subsample': 0.55, 'colsample_bytree': 0.9},\n",
       "  mean: -168120866.89632, std: 42860182.96811, params: {'subsample': 0.6, 'colsample_bytree': 0.9},\n",
       "  mean: -170776280.35174, std: 41397555.74725, params: {'subsample': 0.65, 'colsample_bytree': 0.9},\n",
       "  mean: -168711122.68542, std: 41653501.82448, params: {'subsample': 0.7, 'colsample_bytree': 0.9},\n",
       "  mean: -167619156.87890, std: 41735254.74906, params: {'subsample': 0.75, 'colsample_bytree': 0.9},\n",
       "  mean: -170799521.87111, std: 42332603.31296, params: {'subsample': 0.55, 'colsample_bytree': 0.95},\n",
       "  mean: -177987580.76510, std: 46388052.90039, params: {'subsample': 0.6, 'colsample_bytree': 0.95},\n",
       "  mean: -169240191.97682, std: 45490368.77258, params: {'subsample': 0.65, 'colsample_bytree': 0.95},\n",
       "  mean: -171423760.23196, std: 41309209.45644, params: {'subsample': 0.7, 'colsample_bytree': 0.95},\n",
       "  mean: -173547103.06642, std: 45284064.55466, params: {'subsample': 0.75, 'colsample_bytree': 0.95}],\n",
       " {'colsample_bytree': 0.85, 'subsample': 0.75},\n",
       " -167619156.87889603)"
      ]
     },
     "execution_count": 48,
     "metadata": {},
     "output_type": "execute_result"
    }
   ],
   "source": [
    "param_test10 = {\n",
    " 'subsample':[i/100.0 for i in range(55,80,5)],\n",
    " 'colsample_bytree':[i/100.0 for i in range(85,100,5)]\n",
    "}\n",
    "gsearch10 = GridSearchCV(estimator = XGBRegressor(learning_rate = 0.1, n_estimators = 133, max_depth = 3,\n",
    " min_child_weight = 2, gamma = 0, subsample = 0.7, colsample_bytree = 0.9,\n",
    " objective= 'reg:linear', nthread = 4, scale_pos_weight = 1, seed = 10), \n",
    " param_grid = param_test10, scoring='neg_mean_squared_error', n_jobs = 4, iid = False, cv = 5)\n",
    "gsearch10.fit(X, y)\n",
    "gsearch10.grid_scores_, gsearch10.best_params_, gsearch10.best_score_"
   ]
  },
  {
   "cell_type": "code",
   "execution_count": 49,
   "metadata": {
    "collapsed": false,
    "scrolled": true
   },
   "outputs": [
    {
     "data": {
      "text/plain": [
       "([mean: -167688746.71422, std: 41714684.42634, params: {'reg_alpha': 0.01},\n",
       "  mean: -167688739.09262, std: 41714680.74387, params: {'reg_alpha': 0.1},\n",
       "  mean: -167688730.78992, std: 41714752.73158, params: {'reg_alpha': 1},\n",
       "  mean: -167688710.03573, std: 41714776.17915, params: {'reg_alpha': 1.33}],\n",
       " {'reg_alpha': 1.33},\n",
       " -167688710.03572935)"
      ]
     },
     "execution_count": 49,
     "metadata": {},
     "output_type": "execute_result"
    }
   ],
   "source": [
    "param_test11 = {\n",
    " 'reg_alpha':[1e-2, 0.1, 1, 1.33]\n",
    "}\n",
    "gsearch11 = GridSearchCV(estimator = XGBRegressor(learning_rate = 0.1, n_estimators = 133, max_depth = 3,\n",
    " min_child_weight = 2, gamma = 0, subsample = 0.75, colsample_bytree = 0.85,\n",
    " objective= 'reg:linear', nthread = 4, scale_pos_weight = 1, seed = 10), \n",
    " param_grid = param_test11, scoring='neg_mean_squared_error', n_jobs = 4, iid = False, cv = 5)\n",
    "gsearch11.fit(X, y)\n",
    "gsearch11.grid_scores_, gsearch11.best_params_, gsearch11.best_score_"
   ]
  },
  {
   "cell_type": "code",
   "execution_count": 50,
   "metadata": {
    "collapsed": false
   },
   "outputs": [
    {
     "data": {
      "text/plain": [
       "([mean: -167688739.09262, std: 41714680.74387, params: {'reg_alpha': 0.1},\n",
       "  mean: -167688756.73077, std: 41714736.33339, params: {'reg_alpha': 0.5},\n",
       "  mean: -167688730.78992, std: 41714752.73158, params: {'reg_alpha': 1},\n",
       "  mean: -167688732.55784, std: 41714851.35516, params: {'reg_alpha': 2}],\n",
       " {'reg_alpha': 1},\n",
       " -167688730.7899188)"
      ]
     },
     "execution_count": 50,
     "metadata": {},
     "output_type": "execute_result"
    }
   ],
   "source": [
    "param_test12 = {\n",
    " 'reg_alpha':[0.1, 0.5, 1, 2]\n",
    "}\n",
    "gsearch12 = GridSearchCV(estimator = XGBRegressor(learning_rate = 0.1, n_estimators = 133, max_depth = 3,\n",
    " min_child_weight = 2, gamma = 0, subsample = 0.75, colsample_bytree = 0.85,\n",
    " objective= 'reg:linear', nthread = 4, scale_pos_weight = 1, seed = 10), \n",
    " param_grid = param_test12, scoring='neg_mean_squared_error', n_jobs = 4, iid = False, cv = 5)\n",
    "gsearch12.fit(X, y)\n",
    "gsearch12.grid_scores_, gsearch12.best_params_, gsearch12.best_score_"
   ]
  },
  {
   "cell_type": "code",
   "execution_count": 51,
   "metadata": {
    "collapsed": false
   },
   "outputs": [
    {
     "data": {
      "text/plain": [
       "([mean: -170608219.69490, std: 42034425.26830, params: {'reg_lambda': 0.5},\n",
       "  mean: -167619156.87890, std: 41735254.74906, params: {'reg_lambda': 1},\n",
       "  mean: -172087926.59208, std: 41476543.75674, params: {'reg_lambda': 1.5},\n",
       "  mean: -167852557.45593, std: 42481344.52502, params: {'reg_lambda': 2},\n",
       "  mean: -170319129.46740, std: 42708853.72549, params: {'reg_lambda': 2.5}],\n",
       " {'reg_lambda': 1},\n",
       " -167619156.87889603)"
      ]
     },
     "execution_count": 51,
     "metadata": {},
     "output_type": "execute_result"
    }
   ],
   "source": [
    "param_test13 = {\n",
    " 'reg_lambda':[0.5, 1, 1.5, 2, 2.5]\n",
    "}\n",
    "gsearch13 = GridSearchCV(estimator = XGBRegressor(learning_rate = 0.1, n_estimators = 133, max_depth = 3,\n",
    " min_child_weight = 2, gamma = 0, subsample = 0.75, colsample_bytree = 0.85,\n",
    " objective= 'reg:linear', nthread = 4, scale_pos_weight = 1, seed = 10), \n",
    " param_grid = param_test13, scoring='neg_mean_squared_error', n_jobs = 4, iid = False, cv = 5)\n",
    "gsearch13.fit(X, y)\n",
    "gsearch13.grid_scores_, gsearch13.best_params_, gsearch13.best_score_"
   ]
  },
  {
   "cell_type": "code",
   "execution_count": 52,
   "metadata": {
    "collapsed": false
   },
   "outputs": [
    {
     "data": {
      "text/plain": [
       "([mean: -170722521.97300, std: 44137156.13776, params: {'reg_lambda': 1.9},\n",
       "  mean: -167852557.45593, std: 42481344.52502, params: {'reg_lambda': 2},\n",
       "  mean: -166172825.37405, std: 40356550.76053, params: {'reg_lambda': 2.33},\n",
       "  mean: -166333941.66237, std: 42061167.81198, params: {'reg_lambda': 2.667},\n",
       "  mean: -167841698.42448, std: 41122564.45517, params: {'reg_lambda': 3.33}],\n",
       " {'reg_lambda': 2.33},\n",
       " -166172825.37404713)"
      ]
     },
     "execution_count": 52,
     "metadata": {},
     "output_type": "execute_result"
    }
   ],
   "source": [
    "param_test14 = {\n",
    " 'reg_lambda':[1.90, 2, 2.33, 2.667, 3.33]\n",
    "}\n",
    "gsearch14 = GridSearchCV(estimator = XGBRegressor(learning_rate = 0.1, n_estimators = 133, max_depth = 3,\n",
    " min_child_weight = 2, gamma = 0, subsample = 0.75, colsample_bytree = 0.85,\n",
    " objective= 'reg:linear', nthread = 4, scale_pos_weight = 1, seed = 10), \n",
    " param_grid = param_test14, scoring='neg_mean_squared_error', n_jobs = 4, iid = False, cv = 5)\n",
    "gsearch14.fit(X, y)\n",
    "gsearch14.grid_scores_, gsearch14.best_params_, gsearch14.best_score_"
   ]
  },
  {
   "cell_type": "markdown",
   "metadata": {},
   "source": [
    "These paramaters are to reduce overfitting and are part of the regularization terms. I found that the best alpha value is 1.33, and the best lambda value is 2.33. Now I can test these on the model and see if anything has improved. "
   ]
  },
  {
   "cell_type": "code",
   "execution_count": 53,
   "metadata": {
    "collapsed": false
   },
   "outputs": [
    {
     "name": "stdout",
     "output_type": "stream",
     "text": [
      "[0]\ttrain-rmse:228317+408.41\ttest-rmse:228308+1759.15\n",
      "[30]\ttrain-rmse:16219.1+63.6821\ttest-rmse:16794.4+1575.17\n",
      "[60]\ttrain-rmse:11293+45.2967\ttest-rmse:12252.2+1086.4\n",
      "[90]\ttrain-rmse:10884.9+70.5632\ttest-rmse:12058+1020.06\n",
      "[120]\ttrain-rmse:10618.4+91.2286\ttest-rmse:12013.7+1022.75\n",
      "\n",
      "Model Report\n",
      "Mean Squared Error : 1.19e+08\n",
      "r2 Score: 0.987561\n"
     ]
    },
    {
     "data": {
      "image/png": "[encoded data removed]",
      "text/plain": [
       "<matplotlib.figure.Figure at 0xbc330b8>"
      ]
     },
     "metadata": {},
     "output_type": "display_data"
    }
   ],
   "source": [
    "xgb3 = XGBRegressor(\n",
    " learning_rate = 0.1,\n",
    " n_estimators = 150,\n",
    " max_depth = 3,\n",
    " min_child_weight = 2,\n",
    " gamma = 0,\n",
    " subsample = 0.75,\n",
    " colsample_bytree = 0.85,\n",
    " reg_alpha = 1.33,\n",
    " reg_lambda = 2.33,\n",
    " objective = 'reg:linear',\n",
    " nthread = 4,\n",
    " scale_pos_weight = 1,\n",
    " seed = 10)\n",
    "modelfitXGB(xgb3, X, y)"
   ]
  },
  {
   "cell_type": "code",
   "execution_count": 54,
   "metadata": {
    "collapsed": false
   },
   "outputs": [
    {
     "name": "stdout",
     "output_type": "stream",
     "text": [
      "[0]\ttrain-rmse:250791+455.874\ttest-rmse:250785+1830.39\n",
      "[30]\ttrain-rmse:186594+292.947\ttest-rmse:186611+1705.86\n",
      "[60]\ttrain-rmse:139086+209.191\ttest-rmse:139142+1594.35\n",
      "[90]\ttrain-rmse:103901+171.971\ttest-rmse:104004+1490.09\n",
      "[120]\ttrain-rmse:77871.4+151.481\ttest-rmse:78031.9+1396.53\n",
      "[150]\ttrain-rmse:58697.6+155.876\ttest-rmse:58912.6+1345.57\n",
      "[180]\ttrain-rmse:44599.8+136.622\ttest-rmse:44897.4+1351.07\n",
      "[210]\ttrain-rmse:34349.9+142.058\ttest-rmse:34711.8+1328.33\n",
      "[240]\ttrain-rmse:26971.7+119.011\ttest-rmse:27405.7+1359.87\n",
      "[270]\ttrain-rmse:21773.4+102.288\ttest-rmse:22295.9+1369.59\n",
      "[300]\ttrain-rmse:18194.5+86.5472\ttest-rmse:18793.6+1363.65\n",
      "[330]\ttrain-rmse:15786.9+85.2507\ttest-rmse:16459.5+1354.85\n",
      "[360]\ttrain-rmse:14210.3+87.0233\ttest-rmse:14949.3+1314.34\n",
      "[390]\ttrain-rmse:13191.7+89.479\ttest-rmse:13988.6+1259.64\n",
      "[420]\ttrain-rmse:12534.1+90.7934\ttest-rmse:13370.9+1199.47\n",
      "[450]\ttrain-rmse:12110+94.4773\ttest-rmse:12982+1153.17\n",
      "[480]\ttrain-rmse:11824.2+97.6735\ttest-rmse:12723.9+1106.62\n",
      "[510]\ttrain-rmse:11624.5+100.553\ttest-rmse:12556.4+1070.82\n",
      "[540]\ttrain-rmse:11479.1+102.584\ttest-rmse:12432+1041.09\n",
      "[570]\ttrain-rmse:11372.3+104.472\ttest-rmse:12348.2+1010.64\n",
      "[600]\ttrain-rmse:11289.2+106.253\ttest-rmse:12288.3+995.265\n",
      "[630]\ttrain-rmse:11219.4+108.655\ttest-rmse:12238.6+975.703\n",
      "[660]\ttrain-rmse:11158.5+111.41\ttest-rmse:12196.9+962.675\n",
      "[690]\ttrain-rmse:11105.5+111.992\ttest-rmse:12167.1+955.31\n",
      "[720]\ttrain-rmse:11059+113.693\ttest-rmse:12143+944.643\n",
      "[750]\ttrain-rmse:11013.7+114.413\ttest-rmse:12117.3+938.81\n",
      "[780]\ttrain-rmse:10971.3+114.223\ttest-rmse:12094.2+926.945\n",
      "[810]\ttrain-rmse:10932.1+112.297\ttest-rmse:12072.9+922.95\n",
      "[840]\ttrain-rmse:10895.4+113.502\ttest-rmse:12062.1+924.91\n",
      "[870]\ttrain-rmse:10861.2+116.183\ttest-rmse:12053+925.834\n",
      "[900]\ttrain-rmse:10830.1+118.63\ttest-rmse:12041.2+920.306\n",
      "[930]\ttrain-rmse:10798.9+119.697\ttest-rmse:12033.4+919.064\n",
      "[960]\ttrain-rmse:10768+120.309\ttest-rmse:12019.9+915.151\n",
      "[990]\ttrain-rmse:10737.4+123.221\ttest-rmse:12008.3+908.41\n",
      "[1020]\ttrain-rmse:10708.2+125.052\ttest-rmse:11999.7+905.345\n",
      "[1050]\ttrain-rmse:10681.3+125.762\ttest-rmse:11996+908.191\n",
      "[1080]\ttrain-rmse:10654.4+127.543\ttest-rmse:11989.2+906.814\n",
      "[1110]\ttrain-rmse:10627.8+127.1\ttest-rmse:11983.4+905.758\n",
      "[1140]\ttrain-rmse:10601.3+128.017\ttest-rmse:11978.8+908.497\n",
      "[1170]\ttrain-rmse:10577.2+128.405\ttest-rmse:11974+909.892\n",
      "[1200]\ttrain-rmse:10553.3+129.848\ttest-rmse:11968.7+911.228\n",
      "[1230]\ttrain-rmse:10529.4+130.924\ttest-rmse:11964.9+909.682\n",
      "[1260]\ttrain-rmse:10506.9+131.049\ttest-rmse:11963.2+915.853\n",
      "[1290]\ttrain-rmse:10484.3+130.153\ttest-rmse:11959.6+918.647\n",
      "[1320]\ttrain-rmse:10462+132.05\ttest-rmse:11955.3+917.979\n",
      "[1350]\ttrain-rmse:10440.5+132.397\ttest-rmse:11952.1+919.465\n",
      "[1380]\ttrain-rmse:10420.7+133.085\ttest-rmse:11950+922.112\n",
      "[1410]\ttrain-rmse:10399.1+134.868\ttest-rmse:11946.3+922.441\n",
      "[1440]\ttrain-rmse:10379.3+134.31\ttest-rmse:11944.3+922.905\n",
      "[1470]\ttrain-rmse:10359.3+134.701\ttest-rmse:11942.1+926.116\n",
      "\n",
      "Model Report\n",
      "Mean Squared Error : 1.111e+08\n",
      "r2 Score: 0.988391\n"
     ]
    },
    {
     "data": {
      "image/png": "[encoded data removed]",
      "text/plain": [
       "<matplotlib.figure.Figure at 0xc77f128>"
      ]
     },
     "metadata": {},
     "output_type": "display_data"
    }
   ],
   "source": [
    "xgb4 = XGBRegressor(\n",
    " learning_rate = 0.01,\n",
    " n_estimators = 1500,\n",
    " max_depth = 3,\n",
    " min_child_weight = 2,\n",
    " gamma = 0,\n",
    " subsample = 0.75,\n",
    " colsample_bytree = 0.85,\n",
    " reg_alpha = 1.33,\n",
    " reg_lambda = 2.33,\n",
    " objective = 'reg:linear',\n",
    " nthread = 4,\n",
    " scale_pos_weight = 1,\n",
    " seed = 10)\n",
    "modelfitXGB(xgb4, X, y)"
   ]
  },
  {
   "cell_type": "markdown",
   "metadata": {},
   "source": [
    "In this last step, I increased the number of trees while decreasing the learning rate. The test-rmse, has decreased, which means the MSE also has decreased. The MSE using the XGBoost algorithm is 1.426 * 10^8, which is better than the gradient boosting algorithm. When I was performing grid search, the mean squared error was shown to be larger with all the parameters tuned compared to the one for gradient boosting. However, I believe that with more feature engineering as well as more training data, that XGBoost will outperform gradient boosting and be faster at the same time. What follows is me trying to use Bagging techniques as well as a neural network to see if prediction can be improved. "
   ]
  },
  {
   "cell_type": "code",
   "execution_count": 55,
   "metadata": {
    "collapsed": false
   },
   "outputs": [
    {
     "name": "stdout",
     "output_type": "stream",
     "text": [
      "\n",
      "Model Report\n",
      "Mean Squared Error : 2.771e+07\n",
      "r2 Score: 0.997104\n",
      "CV Score : Mean - 0.9227215 | Std - 0.0916095 | Min - 0.7430086 | Max - 0.9858579\n",
      "CV Score MSE : Mean - -2.77438e+08 | Std - 1.343506e+08 | Min - -5.28121e+08 | Max - -1.324623e+08\n"
     ]
    },
    {
     "data": {
      "image/png": "[encoded data removed]",
      "text/plain": [
       "<matplotlib.figure.Figure at 0x1d96b4a8>"
      ]
     },
     "metadata": {},
     "output_type": "display_data"
    }
   ],
   "source": [
    "from sklearn.ensemble import RandomForestRegressor\n",
    "rf = RandomForestRegressor(random_state = 10)\n",
    "modelfit(rf, X, y)"
   ]
  },
  {
   "cell_type": "code",
   "execution_count": 56,
   "metadata": {
    "collapsed": false
   },
   "outputs": [
    {
     "data": {
      "text/plain": [
       "([mean: -263786754.21663, std: 113631362.41518, params: {'n_estimators': 80},\n",
       "  mean: -266006448.27742, std: 116381524.95829, params: {'n_estimators': 100},\n",
       "  mean: -265944157.32222, std: 117029365.07323, params: {'n_estimators': 120},\n",
       "  mean: -267768820.21579, std: 118843527.81194, params: {'n_estimators': 140},\n",
       "  mean: -268060192.19754, std: 119326029.62027, params: {'n_estimators': 160},\n",
       "  mean: -267421838.48639, std: 118408620.67921, params: {'n_estimators': 180},\n",
       "  mean: -266266705.38753, std: 117254212.99078, params: {'n_estimators': 200},\n",
       "  mean: -266616545.36973, std: 118096248.62318, params: {'n_estimators': 220},\n",
       "  mean: -266583489.24284, std: 117961069.67881, params: {'n_estimators': 240}],\n",
       " {'n_estimators': 80},\n",
       " -263786754.21663356)"
      ]
     },
     "execution_count": 56,
     "metadata": {},
     "output_type": "execute_result"
    }
   ],
   "source": [
    "param_test15 = {'n_estimators': range(80, 241, 20)}\n",
    "gsearch15 = GridSearchCV(estimator = ensemble.RandomForestRegressor(min_samples_split = 40, min_samples_leaf = 2, max_depth = 6, max_features = 'auto', random_state = 10), \n",
    "param_grid = param_test15, scoring='neg_mean_squared_error', n_jobs = 4, iid = False, cv = 5)\n",
    "gsearch15.fit(X,y)\n",
    "gsearch15.grid_scores_, gsearch15.best_params_, gsearch15.best_score_"
   ]
  },
  {
   "cell_type": "code",
   "execution_count": 57,
   "metadata": {
    "collapsed": false
   },
   "outputs": [
    {
     "data": {
      "text/plain": [
       "([mean: -4529536788.08605, std: 1641663163.46684, params: {'min_samples_split': 40, 'max_depth': 1},\n",
       "  mean: -4529536788.08605, std: 1641663163.46684, params: {'min_samples_split': 60, 'max_depth': 1},\n",
       "  mean: -4529536788.08605, std: 1641663163.46684, params: {'min_samples_split': 80, 'max_depth': 1},\n",
       "  mean: -4529536788.08605, std: 1641663163.46684, params: {'min_samples_split': 100, 'max_depth': 1},\n",
       "  mean: -4529536788.08605, std: 1641663163.46684, params: {'min_samples_split': 120, 'max_depth': 1},\n",
       "  mean: -4529536788.08605, std: 1641663163.46684, params: {'min_samples_split': 140, 'max_depth': 1},\n",
       "  mean: -4529536788.08605, std: 1641663163.46684, params: {'min_samples_split': 160, 'max_depth': 1},\n",
       "  mean: -1677559463.41677, std: 797807786.11675, params: {'min_samples_split': 40, 'max_depth': 2},\n",
       "  mean: -1677559463.41677, std: 797807786.11675, params: {'min_samples_split': 60, 'max_depth': 2},\n",
       "  mean: -1677559463.41677, std: 797807786.11675, params: {'min_samples_split': 80, 'max_depth': 2},\n",
       "  mean: -1677559463.41677, std: 797807786.11675, params: {'min_samples_split': 100, 'max_depth': 2},\n",
       "  mean: -1677559463.41677, std: 797807786.11675, params: {'min_samples_split': 120, 'max_depth': 2},\n",
       "  mean: -1677559463.41677, std: 797807786.11675, params: {'min_samples_split': 140, 'max_depth': 2},\n",
       "  mean: -1677559463.41677, std: 797807786.11675, params: {'min_samples_split': 160, 'max_depth': 2},\n",
       "  mean: -485473144.62262, std: 264332961.38783, params: {'min_samples_split': 40, 'max_depth': 3},\n",
       "  mean: -485473144.62262, std: 264332961.38783, params: {'min_samples_split': 60, 'max_depth': 3},\n",
       "  mean: -485473144.62262, std: 264332961.38783, params: {'min_samples_split': 80, 'max_depth': 3},\n",
       "  mean: -485331344.54275, std: 264416867.79326, params: {'min_samples_split': 100, 'max_depth': 3},\n",
       "  mean: -485214578.08590, std: 264532512.01813, params: {'min_samples_split': 120, 'max_depth': 3},\n",
       "  mean: -484171045.45816, std: 265164570.25203, params: {'min_samples_split': 140, 'max_depth': 3},\n",
       "  mean: -494350549.20730, std: 262616213.48369, params: {'min_samples_split': 160, 'max_depth': 3},\n",
       "  mean: -225228750.19554, std: 100655147.32150, params: {'min_samples_split': 40, 'max_depth': 4},\n",
       "  mean: -279962018.72024, std: 185918145.36576, params: {'min_samples_split': 60, 'max_depth': 4},\n",
       "  mean: -305009758.94487, std: 233929077.08570, params: {'min_samples_split': 80, 'max_depth': 4},\n",
       "  mean: -314276590.73824, std: 253018825.59509, params: {'min_samples_split': 100, 'max_depth': 4},\n",
       "  mean: -329936648.05282, std: 277621090.05413, params: {'min_samples_split': 120, 'max_depth': 4},\n",
       "  mean: -332159594.99555, std: 276642820.13946, params: {'min_samples_split': 140, 'max_depth': 4},\n",
       "  mean: -345743172.85924, std: 271799198.07183, params: {'min_samples_split': 160, 'max_depth': 4},\n",
       "  mean: -236505284.51948, std: 96448026.61419, params: {'min_samples_split': 40, 'max_depth': 5},\n",
       "  mean: -294034886.06070, std: 179480661.35985, params: {'min_samples_split': 60, 'max_depth': 5},\n",
       "  mean: -319526301.35711, std: 227263095.17717, params: {'min_samples_split': 80, 'max_depth': 5},\n",
       "  mean: -328477425.57209, std: 244565409.50689, params: {'min_samples_split': 100, 'max_depth': 5},\n",
       "  mean: -346738576.04842, std: 268037606.07404, params: {'min_samples_split': 120, 'max_depth': 5},\n",
       "  mean: -350912552.06517, std: 265762949.22164, params: {'min_samples_split': 140, 'max_depth': 5},\n",
       "  mean: -365400648.95870, std: 258778645.72063, params: {'min_samples_split': 160, 'max_depth': 5},\n",
       "  mean: -267923696.18702, std: 115812128.42391, params: {'min_samples_split': 40, 'max_depth': 6},\n",
       "  mean: -322793464.59572, std: 178749673.84490, params: {'min_samples_split': 60, 'max_depth': 6},\n",
       "  mean: -347017151.93429, std: 222575403.93013, params: {'min_samples_split': 80, 'max_depth': 6},\n",
       "  mean: -353350427.11943, std: 239128126.21989, params: {'min_samples_split': 100, 'max_depth': 6},\n",
       "  mean: -363913773.72902, std: 261707671.07600, params: {'min_samples_split': 120, 'max_depth': 6},\n",
       "  mean: -361326944.71095, std: 260924546.27708, params: {'min_samples_split': 140, 'max_depth': 6},\n",
       "  mean: -372092441.26674, std: 254815569.51604, params: {'min_samples_split': 160, 'max_depth': 6},\n",
       "  mean: -270952698.87506, std: 121027740.31817, params: {'min_samples_split': 40, 'max_depth': 7},\n",
       "  mean: -328156067.55220, std: 181141487.37990, params: {'min_samples_split': 60, 'max_depth': 7},\n",
       "  mean: -352327233.16754, std: 223252093.82780, params: {'min_samples_split': 80, 'max_depth': 7},\n",
       "  mean: -357120550.40879, std: 238856154.85824, params: {'min_samples_split': 100, 'max_depth': 7},\n",
       "  mean: -366225766.22224, std: 260637170.76065, params: {'min_samples_split': 120, 'max_depth': 7},\n",
       "  mean: -362276088.49517, std: 259901386.73654, params: {'min_samples_split': 140, 'max_depth': 7},\n",
       "  mean: -373080715.88835, std: 253940307.49529, params: {'min_samples_split': 160, 'max_depth': 7}],\n",
       " {'max_depth': 4, 'min_samples_split': 40},\n",
       " -225228750.1955433)"
      ]
     },
     "execution_count": 57,
     "metadata": {},
     "output_type": "execute_result"
    }
   ],
   "source": [
    "param_test16 = {'max_depth':range(1,8,1), 'min_samples_split':range(40,171,20)}\n",
    "gsearch16 = GridSearchCV(estimator = ensemble.RandomForestRegressor(n_estimators = 80, max_features = 'auto', random_state=10), \n",
    "param_grid = param_test16, scoring='neg_mean_squared_error', n_jobs = 4, iid = False, cv = 5)\n",
    "gsearch16.fit(X,y)\n",
    "gsearch16.grid_scores_, gsearch16.best_params_, gsearch16.best_score_"
   ]
  },
  {
   "cell_type": "code",
   "execution_count": 58,
   "metadata": {
    "collapsed": false
   },
   "outputs": [
    {
     "data": {
      "text/plain": [
       "([mean: -223514622.51794, std: 97289018.67803, params: {'min_samples_split': 20, 'min_samples_leaf': 2},\n",
       "  mean: -223978451.39704, std: 98284203.84570, params: {'min_samples_split': 30, 'min_samples_leaf': 2},\n",
       "  mean: -224005723.73401, std: 98312855.32657, params: {'min_samples_split': 40, 'min_samples_leaf': 2},\n",
       "  mean: -244094313.89619, std: 125676775.89495, params: {'min_samples_split': 50, 'min_samples_leaf': 2},\n",
       "  mean: -279962018.72024, std: 185918145.36576, params: {'min_samples_split': 60, 'min_samples_leaf': 2},\n",
       "  mean: -294576716.97397, std: 213010411.89282, params: {'min_samples_split': 70, 'min_samples_leaf': 2},\n",
       "  mean: -305009758.94487, std: 233929077.08570, params: {'min_samples_split': 80, 'min_samples_leaf': 2},\n",
       "  mean: -220979113.53987, std: 92451444.39015, params: {'min_samples_split': 20, 'min_samples_leaf': 3},\n",
       "  mean: -221828883.52713, std: 94178346.49600, params: {'min_samples_split': 30, 'min_samples_leaf': 3},\n",
       "  mean: -221856155.86410, std: 94208868.97250, params: {'min_samples_split': 40, 'min_samples_leaf': 3},\n",
       "  mean: -242630540.87350, std: 122827509.58187, params: {'min_samples_split': 50, 'min_samples_leaf': 3},\n",
       "  mean: -279962018.72024, std: 185918145.36576, params: {'min_samples_split': 60, 'min_samples_leaf': 3},\n",
       "  mean: -294576716.97397, std: 213010411.89282, params: {'min_samples_split': 70, 'min_samples_leaf': 3},\n",
       "  mean: -305009758.94487, std: 233929077.08570, params: {'min_samples_split': 80, 'min_samples_leaf': 3},\n",
       "  mean: -222247156.58001, std: 94866349.89981, params: {'min_samples_split': 20, 'min_samples_leaf': 4},\n",
       "  mean: -223138056.94073, std: 96668108.56368, params: {'min_samples_split': 30, 'min_samples_leaf': 4},\n",
       "  mean: -223154831.32837, std: 96697732.60611, params: {'min_samples_split': 40, 'min_samples_leaf': 4},\n",
       "  mean: -242630682.48495, std: 122827486.94898, params: {'min_samples_split': 50, 'min_samples_leaf': 4},\n",
       "  mean: -279962018.72024, std: 185918145.36576, params: {'min_samples_split': 60, 'min_samples_leaf': 4},\n",
       "  mean: -294576716.97397, std: 213010411.89282, params: {'min_samples_split': 70, 'min_samples_leaf': 4},\n",
       "  mean: -305009758.94487, std: 233929077.08570, params: {'min_samples_split': 80, 'min_samples_leaf': 4},\n",
       "  mean: -225005563.67073, std: 100156896.17132, params: {'min_samples_split': 20, 'min_samples_leaf': 5},\n",
       "  mean: -225887395.22091, std: 101923669.95596, params: {'min_samples_split': 30, 'min_samples_leaf': 5},\n",
       "  mean: -225933471.84933, std: 101933135.86477, params: {'min_samples_split': 40, 'min_samples_leaf': 5},\n",
       "  mean: -243021975.58052, std: 123531200.53101, params: {'min_samples_split': 50, 'min_samples_leaf': 5},\n",
       "  mean: -279962034.13671, std: 185918140.64617, params: {'min_samples_split': 60, 'min_samples_leaf': 5},\n",
       "  mean: -294576716.97397, std: 213010411.89282, params: {'min_samples_split': 70, 'min_samples_leaf': 5},\n",
       "  mean: -305009758.94487, std: 233929077.08570, params: {'min_samples_split': 80, 'min_samples_leaf': 5},\n",
       "  mean: -227663723.40039, std: 105029280.91070, params: {'min_samples_split': 20, 'min_samples_leaf': 6},\n",
       "  mean: -228485188.77401, std: 106666323.54443, params: {'min_samples_split': 30, 'min_samples_leaf': 6},\n",
       "  mean: -228548788.29118, std: 106665576.93567, params: {'min_samples_split': 40, 'min_samples_leaf': 6},\n",
       "  mean: -244617778.84494, std: 126422813.94183, params: {'min_samples_split': 50, 'min_samples_leaf': 6},\n",
       "  mean: -280437188.73436, std: 186856616.41432, params: {'min_samples_split': 60, 'min_samples_leaf': 6},\n",
       "  mean: -294576716.97397, std: 213010411.89282, params: {'min_samples_split': 70, 'min_samples_leaf': 6},\n",
       "  mean: -305009758.94487, std: 233929077.08570, params: {'min_samples_split': 80, 'min_samples_leaf': 6}],\n",
       " {'min_samples_leaf': 3, 'min_samples_split': 20},\n",
       " -220979113.53987384)"
      ]
     },
     "execution_count": 58,
     "metadata": {},
     "output_type": "execute_result"
    }
   ],
   "source": [
    "param_test17 = {'min_samples_split':range(20,81,10), 'min_samples_leaf':range(2,7,1)}\n",
    "gsearch17 = GridSearchCV(estimator = ensemble.RandomForestRegressor(n_estimators = 80, max_depth = 4, max_features = 'auto', random_state=10), \n",
    "param_grid = param_test17, scoring='neg_mean_squared_error', n_jobs = 4, iid = False, cv = 5)\n",
    "gsearch17.fit(X, y)\n",
    "gsearch17.grid_scores_, gsearch17.best_params_, gsearch17.best_score_"
   ]
  },
  {
   "cell_type": "code",
   "execution_count": 59,
   "metadata": {
    "collapsed": false
   },
   "outputs": [
    {
     "name": "stdout",
     "output_type": "stream",
     "text": [
      "\n",
      "Model Report\n",
      "Mean Squared Error : 1.651e+08\n",
      "r2 Score: 0.982750\n",
      "CV Score : Mean - 0.9540761 | Std - 0.03520062 | Min - 0.8914766 | Max - 0.9843584\n",
      "CV Score MSE : Mean - -2.209791e+08 | Std - 9.245144e+07 | Min - -3.969139e+08 | Max - -1.465074e+08\n"
     ]
    },
    {
     "data": {
      "image/png": "[encoded data removed]",
      "text/plain": [
       "<matplotlib.figure.Figure at 0xc762dd8>"
      ]
     },
     "metadata": {},
     "output_type": "display_data"
    }
   ],
   "source": [
    "modelfit(gsearch17.best_estimator_, X, y)"
   ]
  },
  {
   "cell_type": "markdown",
   "metadata": {},
   "source": [
    "So far gradient boosting algorithm has the highest CV score and seems to be performing the best. I will try to create a neural network and see how it performs compared to gradient boosting before accepting that gradient boosting is the most efficient. "
   ]
  },
  {
   "cell_type": "code",
   "execution_count": 60,
   "metadata": {
    "collapsed": false
   },
   "outputs": [
    {
     "name": "stderr",
     "output_type": "stream",
     "text": [
      "Using Theano backend.\n"
     ]
    },
    {
     "name": "stdout",
     "output_type": "stream",
     "text": [
      "Results: 159268771.31 (46143922.07) MSE\n"
     ]
    }
   ],
   "source": [
    "from keras.models import Sequential\n",
    "from keras.layers import Dense\n",
    "from keras.wrappers.scikit_learn import KerasRegressor\n",
    "from sklearn.cross_validation import KFold\n",
    "from sklearn.preprocessing import StandardScaler\n",
    "from sklearn.pipeline import Pipeline\n",
    "\n",
    "#Need to convert into numpy sequence\n",
    "#Create baseline model to compare other neural network to measure loss\n",
    "\n",
    "data_matrix = X.as_matrix()\n",
    "targets_matrix = y.as_matrix()\n",
    "test_matrix = predictions.as_matrix()\n",
    "\n",
    "def baseline_model():\n",
    "    model = Sequential()\n",
    "    model.add(Dense(13, input_dim = 13, init = 'normal', activation = 'relu'))\n",
    "    model.add(Dense(1, init = 'normal'))\n",
    "    # Compile model\n",
    "    model.compile(loss = 'mean_squared_error', optimizer = 'adam')\n",
    "\n",
    "    return model\n",
    "\n",
    "# evaluate model with standardized dataset\n",
    "estimator = KerasRegressor(build_fn = baseline_model, nb_epoch = 100, batch_size = 5, verbose = 0)\n",
    "results = cross_validation.cross_val_score(estimator, data_matrix, targets_matrix, cv = 5)\n",
    "\n",
    "print(\"Results: %.2f (%.2f) MSE\" % (results.mean(), results.std()))"
   ]
  },
  {
   "cell_type": "code",
   "execution_count": 61,
   "metadata": {
    "collapsed": false
   },
   "outputs": [],
   "source": [
    "def larger_model():\n",
    "    # create model that has wider topology\n",
    "    model = Sequential()\n",
    "    model.add(Dense(13, input_dim=13, init='normal', activation = 'relu'))\n",
    "    model.add(Dense(10, init = 'normal', activation = 'relu'))\n",
    "    model.add(Dense(1, init = 'normal'))\n",
    "    # Compile model\n",
    "    model.compile(loss = 'mean_squared_error', optimizer = 'adam')\n",
    "    return model"
   ]
  },
  {
   "cell_type": "code",
   "execution_count": 62,
   "metadata": {
    "collapsed": false
   },
   "outputs": [
    {
     "name": "stdout",
     "output_type": "stream",
     "text": [
      "Results: 171224327.88 (60553099.18) MSE\n"
     ]
    }
   ],
   "source": [
    "estimator1 = KerasRegressor(build_fn = larger_model, nb_epoch = 100, batch_size = 5, verbose = 0)\n",
    "results1 = cross_validation.cross_val_score(estimator1, data_matrix, targets_matrix, cv = 5)\n",
    "\n",
    "print(\"Results: %.2f (%.2f) MSE\" % (results1.mean(), results1.std()))"
   ]
  },
  {
   "cell_type": "code",
   "execution_count": 63,
   "metadata": {
    "collapsed": true
   },
   "outputs": [],
   "source": [
    "def wider_model():\n",
    "    # create model\n",
    "    model = Sequential()\n",
    "    model.add(Dense(20, input_dim=13, init='normal', activation='relu'))\n",
    "    model.add(Dense(1, init='normal'))\n",
    "    # Compile model\n",
    "    model.compile(loss='mean_squared_error', optimizer='adam')\n",
    "    return model"
   ]
  },
  {
   "cell_type": "code",
   "execution_count": 64,
   "metadata": {
    "collapsed": false,
    "scrolled": true
   },
   "outputs": [
    {
     "name": "stdout",
     "output_type": "stream",
     "text": [
      "Results: 158903602.45 (39960186.21) MSE\n"
     ]
    }
   ],
   "source": [
    "estimator2 = KerasRegressor(build_fn = wider_model, nb_epoch = 100, batch_size = 5, verbose = 0)\n",
    "results2 = cross_validation.cross_val_score(estimator2, data_matrix, targets_matrix, cv = 5)\n",
    "\n",
    "print(\"Results: %.2f (%.2f) MSE\" % (results2.mean(), results2.std()))"
   ]
  },
  {
   "cell_type": "markdown",
   "metadata": {},
   "source": [
    "Neural Networks also perform pretty well in minimizing the mean squared error, but performance wise are much much slower in this case. XGBoost works the quickest, followed by gradient boost, then neural networks. Overall, I think XGBoost and Gradient Boost algorithms work the best for this dataset. I prefer XGBoost over gradient boosting, because it uses more of the features to learn the predicting price, and will perform better on a larger dataset. Gradient Boosting performed better than XGBoost in minimizing the mean squared error, but I believe with a larger dataset and more feature engineering the XGBoost algorithm will outperform any other algorithm. Random Forest and AdaBoost did not perform so well on this dataset, relatively. As of today (12/14/2016), there are 7369 training examples. If I want to improve the predictions, I will need to input more training examples from different zip codes and do more feature engineering such as finding the ratio between bed and bathroom, or finding the distance to the nearest highway. In my simplemodel.py script, I will use XGBoost to predict housing prices and I will try to continually update the dataset as well as this python notebook to reflect the changes. "
   ]
  }
 ],
 "metadata": {
  "anaconda-cloud": {},
  "kernelspec": {
   "display_name": "Python [conda root]",
   "language": "python",
   "name": "conda-root-py"
  },
  "language_info": {
   "codemirror_mode": {
    "name": "ipython",
    "version": 2
   },
   "file_extension": ".py",
   "mimetype": "text/x-python",
   "name": "python",
   "nbconvert_exporter": "python",
   "pygments_lexer": "ipython2",
   "version": "2.7.12"
  }
 },
 "nbformat": 4,
 "nbformat_minor": 1
}
